{
 "cells": [
  {
   "cell_type": "code",
   "execution_count": null,
   "id": "ba1c04dc",
   "metadata": {},
   "outputs": [],
   "source": [
    "## Forage Quantium Data_Analysis Project"
   ]
  },
  {
   "cell_type": "code",
   "execution_count": 1,
   "id": "807d286c",
   "metadata": {},
   "outputs": [],
   "source": [
    "#Lets import the necessary packages\n",
    "import pandas as pd\n",
    "import re\n",
    "import matplotlib.pyplot as plt \n",
    "import seaborn as sns \n",
    "import numpy as np"
   ]
  },
  {
   "cell_type": "code",
   "execution_count": 2,
   "id": "5f018c03",
   "metadata": {},
   "outputs": [],
   "source": [
    "# loading the data\n",
    "df1 = pd.read_excel(\"C:\\\\Users\\\\sam\\Downloads\\\\QVI_transaction_data.xlsx\")"
   ]
  },
  {
   "cell_type": "code",
   "execution_count": 3,
   "id": "00670812",
   "metadata": {},
   "outputs": [
    {
     "data": {
      "text/html": [
       "<div>\n",
       "<style scoped>\n",
       "    .dataframe tbody tr th:only-of-type {\n",
       "        vertical-align: middle;\n",
       "    }\n",
       "\n",
       "    .dataframe tbody tr th {\n",
       "        vertical-align: top;\n",
       "    }\n",
       "\n",
       "    .dataframe thead th {\n",
       "        text-align: right;\n",
       "    }\n",
       "</style>\n",
       "<table border=\"1\" class=\"dataframe\">\n",
       "  <thead>\n",
       "    <tr style=\"text-align: right;\">\n",
       "      <th></th>\n",
       "      <th>DATE</th>\n",
       "      <th>STORE_NBR</th>\n",
       "      <th>LYLTY_CARD_NBR</th>\n",
       "      <th>TXN_ID</th>\n",
       "      <th>PROD_NBR</th>\n",
       "      <th>PROD_NAME</th>\n",
       "      <th>PROD_QTY</th>\n",
       "      <th>TOT_SALES</th>\n",
       "    </tr>\n",
       "  </thead>\n",
       "  <tbody>\n",
       "    <tr>\n",
       "      <th>0</th>\n",
       "      <td>43390</td>\n",
       "      <td>1</td>\n",
       "      <td>1000</td>\n",
       "      <td>1</td>\n",
       "      <td>5</td>\n",
       "      <td>Natural Chip        Compny SeaSalt175g</td>\n",
       "      <td>2</td>\n",
       "      <td>6.0</td>\n",
       "    </tr>\n",
       "    <tr>\n",
       "      <th>1</th>\n",
       "      <td>43599</td>\n",
       "      <td>1</td>\n",
       "      <td>1307</td>\n",
       "      <td>348</td>\n",
       "      <td>66</td>\n",
       "      <td>CCs Nacho Cheese    175g</td>\n",
       "      <td>3</td>\n",
       "      <td>6.3</td>\n",
       "    </tr>\n",
       "    <tr>\n",
       "      <th>2</th>\n",
       "      <td>43605</td>\n",
       "      <td>1</td>\n",
       "      <td>1343</td>\n",
       "      <td>383</td>\n",
       "      <td>61</td>\n",
       "      <td>Smiths Crinkle Cut  Chips Chicken 170g</td>\n",
       "      <td>2</td>\n",
       "      <td>2.9</td>\n",
       "    </tr>\n",
       "    <tr>\n",
       "      <th>3</th>\n",
       "      <td>43329</td>\n",
       "      <td>2</td>\n",
       "      <td>2373</td>\n",
       "      <td>974</td>\n",
       "      <td>69</td>\n",
       "      <td>Smiths Chip Thinly  S/Cream&amp;Onion 175g</td>\n",
       "      <td>5</td>\n",
       "      <td>15.0</td>\n",
       "    </tr>\n",
       "    <tr>\n",
       "      <th>4</th>\n",
       "      <td>43330</td>\n",
       "      <td>2</td>\n",
       "      <td>2426</td>\n",
       "      <td>1038</td>\n",
       "      <td>108</td>\n",
       "      <td>Kettle Tortilla ChpsHny&amp;Jlpno Chili 150g</td>\n",
       "      <td>3</td>\n",
       "      <td>13.8</td>\n",
       "    </tr>\n",
       "  </tbody>\n",
       "</table>\n",
       "</div>"
      ],
      "text/plain": [
       "    DATE  STORE_NBR  LYLTY_CARD_NBR  TXN_ID  PROD_NBR  \\\n",
       "0  43390          1            1000       1         5   \n",
       "1  43599          1            1307     348        66   \n",
       "2  43605          1            1343     383        61   \n",
       "3  43329          2            2373     974        69   \n",
       "4  43330          2            2426    1038       108   \n",
       "\n",
       "                                  PROD_NAME  PROD_QTY  TOT_SALES  \n",
       "0    Natural Chip        Compny SeaSalt175g         2        6.0  \n",
       "1                  CCs Nacho Cheese    175g         3        6.3  \n",
       "2    Smiths Crinkle Cut  Chips Chicken 170g         2        2.9  \n",
       "3    Smiths Chip Thinly  S/Cream&Onion 175g         5       15.0  \n",
       "4  Kettle Tortilla ChpsHny&Jlpno Chili 150g         3       13.8  "
      ]
     },
     "execution_count": 3,
     "metadata": {},
     "output_type": "execute_result"
    }
   ],
   "source": [
    "df1.head()"
   ]
  },
  {
   "cell_type": "code",
   "execution_count": 140,
   "id": "7d7832fd",
   "metadata": {},
   "outputs": [
    {
     "data": {
      "text/plain": [
       "264836"
      ]
     },
     "execution_count": 140,
     "metadata": {},
     "output_type": "execute_result"
    }
   ],
   "source": [
    "# number of records \n",
    "df1.PROD_NAME.count()"
   ]
  },
  {
   "cell_type": "code",
   "execution_count": 141,
   "id": "9003636c",
   "metadata": {},
   "outputs": [
    {
     "name": "stdout",
     "output_type": "stream",
     "text": [
      "<class 'pandas.core.frame.DataFrame'>\n",
      "RangeIndex: 264836 entries, 0 to 264835\n",
      "Data columns (total 8 columns):\n",
      " #   Column          Non-Null Count   Dtype  \n",
      "---  ------          --------------   -----  \n",
      " 0   DATE            264836 non-null  int64  \n",
      " 1   STORE_NBR       264836 non-null  int64  \n",
      " 2   LYLTY_CARD_NBR  264836 non-null  int64  \n",
      " 3   TXN_ID          264836 non-null  int64  \n",
      " 4   PROD_NBR        264836 non-null  int64  \n",
      " 5   PROD_NAME       264836 non-null  object \n",
      " 6   PROD_QTY        264836 non-null  int64  \n",
      " 7   TOT_SALES       264836 non-null  float64\n",
      "dtypes: float64(1), int64(6), object(1)\n",
      "memory usage: 16.2+ MB\n"
     ]
    }
   ],
   "source": [
    "#info of the data\n",
    "df1.info()"
   ]
  },
  {
   "cell_type": "code",
   "execution_count": 142,
   "id": "7b1e766c",
   "metadata": {},
   "outputs": [
    {
     "data": {
      "text/plain": [
       "Index(['DATE', 'STORE_NBR', 'LYLTY_CARD_NBR', 'TXN_ID', 'PROD_NBR',\n",
       "       'PROD_NAME', 'PROD_QTY', 'TOT_SALES'],\n",
       "      dtype='object')"
      ]
     },
     "execution_count": 142,
     "metadata": {},
     "output_type": "execute_result"
    }
   ],
   "source": [
    " #Columns\n",
    "df1.columns"
   ]
  },
  {
   "cell_type": "code",
   "execution_count": 143,
   "id": "eb34f7f2",
   "metadata": {},
   "outputs": [
    {
     "data": {
      "text/plain": [
       "DATE                int64\n",
       "STORE_NBR           int64\n",
       "LYLTY_CARD_NBR      int64\n",
       "TXN_ID              int64\n",
       "PROD_NBR            int64\n",
       "PROD_NAME          object\n",
       "PROD_QTY            int64\n",
       "TOT_SALES         float64\n",
       "dtype: object"
      ]
     },
     "execution_count": 143,
     "metadata": {},
     "output_type": "execute_result"
    }
   ],
   "source": [
    "# checking the data types\n",
    "df1.dtypes"
   ]
  },
  {
   "cell_type": "markdown",
   "id": "c58bd1ed",
   "metadata": {},
   "source": [
    "## Data Preprocessing"
   ]
  },
  {
   "cell_type": "code",
   "execution_count": 144,
   "id": "5d9f780f",
   "metadata": {},
   "outputs": [
    {
     "data": {
      "text/plain": [
       "(264836, 8)"
      ]
     },
     "execution_count": 144,
     "metadata": {},
     "output_type": "execute_result"
    }
   ],
   "source": [
    "#shape of the data\n",
    "df1.shape"
   ]
  },
  {
   "cell_type": "code",
   "execution_count": 145,
   "id": "9b31e3af",
   "metadata": {},
   "outputs": [
    {
     "data": {
      "text/plain": [
       "DATE              False\n",
       "STORE_NBR         False\n",
       "LYLTY_CARD_NBR    False\n",
       "TXN_ID            False\n",
       "PROD_NBR          False\n",
       "PROD_NAME         False\n",
       "PROD_QTY          False\n",
       "TOT_SALES         False\n",
       "dtype: bool"
      ]
     },
     "execution_count": 145,
     "metadata": {},
     "output_type": "execute_result"
    }
   ],
   "source": [
    "#Checking null values \n",
    "df1.isnull().any()"
   ]
  },
  {
   "cell_type": "code",
   "execution_count": 146,
   "id": "fe63678e",
   "metadata": {},
   "outputs": [
    {
     "data": {
      "text/plain": [
       "DATE              False\n",
       "STORE_NBR         False\n",
       "LYLTY_CARD_NBR    False\n",
       "TXN_ID            False\n",
       "PROD_NBR          False\n",
       "PROD_NAME         False\n",
       "PROD_QTY          False\n",
       "TOT_SALES         False\n",
       "dtype: bool"
      ]
     },
     "execution_count": 146,
     "metadata": {},
     "output_type": "execute_result"
    }
   ],
   "source": [
    "#Checking na values \n",
    "df1.isna().any()"
   ]
  },
  {
   "cell_type": "code",
   "execution_count": 147,
   "id": "d749cfbe",
   "metadata": {},
   "outputs": [],
   "source": [
    "## changing column names "
   ]
  },
  {
   "cell_type": "code",
   "execution_count": 148,
   "id": "020f1f81",
   "metadata": {},
   "outputs": [],
   "source": [
    "df1.rename(columns={'DATE':'Date','STORE_NBR':'Store_id','LYLTY_CARD_NBR':'Loyalty_id','TXN_ID':'Tax_id'\n",
    "                    ,'PROD_NBR':'Product_id','PROD_NAME'\n",
    "                    :'Product_name','PROD_QTY':'Quantity','TOT_SALES':'Total_sales'},inplace=True)"
   ]
  },
  {
   "cell_type": "code",
   "execution_count": 149,
   "id": "5a53a75d",
   "metadata": {},
   "outputs": [
    {
     "data": {
      "text/html": [
       "<div>\n",
       "<style scoped>\n",
       "    .dataframe tbody tr th:only-of-type {\n",
       "        vertical-align: middle;\n",
       "    }\n",
       "\n",
       "    .dataframe tbody tr th {\n",
       "        vertical-align: top;\n",
       "    }\n",
       "\n",
       "    .dataframe thead th {\n",
       "        text-align: right;\n",
       "    }\n",
       "</style>\n",
       "<table border=\"1\" class=\"dataframe\">\n",
       "  <thead>\n",
       "    <tr style=\"text-align: right;\">\n",
       "      <th></th>\n",
       "      <th>Date</th>\n",
       "      <th>Store_id</th>\n",
       "      <th>Loyalty_id</th>\n",
       "      <th>Tax_id</th>\n",
       "      <th>Product_id</th>\n",
       "      <th>Product_name</th>\n",
       "      <th>Quantity</th>\n",
       "      <th>Total_sales</th>\n",
       "    </tr>\n",
       "  </thead>\n",
       "  <tbody>\n",
       "    <tr>\n",
       "      <th>0</th>\n",
       "      <td>43390</td>\n",
       "      <td>1</td>\n",
       "      <td>1000</td>\n",
       "      <td>1</td>\n",
       "      <td>5</td>\n",
       "      <td>Natural Chip        Compny SeaSalt175g</td>\n",
       "      <td>2</td>\n",
       "      <td>6.0</td>\n",
       "    </tr>\n",
       "    <tr>\n",
       "      <th>1</th>\n",
       "      <td>43599</td>\n",
       "      <td>1</td>\n",
       "      <td>1307</td>\n",
       "      <td>348</td>\n",
       "      <td>66</td>\n",
       "      <td>CCs Nacho Cheese    175g</td>\n",
       "      <td>3</td>\n",
       "      <td>6.3</td>\n",
       "    </tr>\n",
       "    <tr>\n",
       "      <th>2</th>\n",
       "      <td>43605</td>\n",
       "      <td>1</td>\n",
       "      <td>1343</td>\n",
       "      <td>383</td>\n",
       "      <td>61</td>\n",
       "      <td>Smiths Crinkle Cut  Chips Chicken 170g</td>\n",
       "      <td>2</td>\n",
       "      <td>2.9</td>\n",
       "    </tr>\n",
       "    <tr>\n",
       "      <th>3</th>\n",
       "      <td>43329</td>\n",
       "      <td>2</td>\n",
       "      <td>2373</td>\n",
       "      <td>974</td>\n",
       "      <td>69</td>\n",
       "      <td>Smiths Chip Thinly  S/Cream&amp;Onion 175g</td>\n",
       "      <td>5</td>\n",
       "      <td>15.0</td>\n",
       "    </tr>\n",
       "    <tr>\n",
       "      <th>4</th>\n",
       "      <td>43330</td>\n",
       "      <td>2</td>\n",
       "      <td>2426</td>\n",
       "      <td>1038</td>\n",
       "      <td>108</td>\n",
       "      <td>Kettle Tortilla ChpsHny&amp;Jlpno Chili 150g</td>\n",
       "      <td>3</td>\n",
       "      <td>13.8</td>\n",
       "    </tr>\n",
       "  </tbody>\n",
       "</table>\n",
       "</div>"
      ],
      "text/plain": [
       "    Date  Store_id  Loyalty_id  Tax_id  Product_id  \\\n",
       "0  43390         1        1000       1           5   \n",
       "1  43599         1        1307     348          66   \n",
       "2  43605         1        1343     383          61   \n",
       "3  43329         2        2373     974          69   \n",
       "4  43330         2        2426    1038         108   \n",
       "\n",
       "                               Product_name  Quantity  Total_sales  \n",
       "0    Natural Chip        Compny SeaSalt175g         2          6.0  \n",
       "1                  CCs Nacho Cheese    175g         3          6.3  \n",
       "2    Smiths Crinkle Cut  Chips Chicken 170g         2          2.9  \n",
       "3    Smiths Chip Thinly  S/Cream&Onion 175g         5         15.0  \n",
       "4  Kettle Tortilla ChpsHny&Jlpno Chili 150g         3         13.8  "
      ]
     },
     "execution_count": 149,
     "metadata": {},
     "output_type": "execute_result"
    }
   ],
   "source": [
    "df1.head()"
   ]
  },
  {
   "cell_type": "code",
   "execution_count": 171,
   "id": "f1657ba2",
   "metadata": {},
   "outputs": [
    {
     "data": {
      "text/plain": [
       "0    2018-10-17\n",
       "1    2019-05-14\n",
       "2    2019-05-20\n",
       "3    2018-08-17\n",
       "4    2018-08-18\n",
       "Name: Date, dtype: object"
      ]
     },
     "execution_count": 171,
     "metadata": {},
     "output_type": "execute_result"
    }
   ],
   "source": [
    "#changing the date type\n",
    "df1['Date'] = pd.to_datetime(df1['Date'], format='%Y-%m-%d').dt.date\n",
    "df1['Date'].head()"
   ]
  },
  {
   "cell_type": "code",
   "execution_count": 172,
   "id": "add805f4",
   "metadata": {},
   "outputs": [
    {
     "data": {
      "text/plain": [
       "0   2018-10-17\n",
       "1   2019-05-14\n",
       "2   2019-05-20\n",
       "3   2018-08-17\n",
       "4   2018-08-18\n",
       "Name: Date, dtype: datetime64[ns]"
      ]
     },
     "execution_count": 172,
     "metadata": {},
     "output_type": "execute_result"
    }
   ],
   "source": [
    "df1['Date'] = pd.to_datetime(df1['Date'])\n",
    "df1['Date'].head()"
   ]
  },
  {
   "cell_type": "markdown",
   "id": "ea353455",
   "metadata": {},
   "source": [
    "**Keep Only Products with \"Chip\" or \"Chips\" expect salsa**\n",
    "\n",
    "**This ensures that only products with \"chip\" or \"chips\" remain in the dataset.**\n"
   ]
  },
  {
   "cell_type": "code",
   "execution_count": 173,
   "id": "5baf42fc",
   "metadata": {},
   "outputs": [
    {
     "data": {
      "text/plain": [
       "False    246742\n",
       "True      18094\n",
       "Name: Product_name, dtype: int64"
      ]
     },
     "execution_count": 173,
     "metadata": {},
     "output_type": "execute_result"
    }
   ],
   "source": [
    "product_words = df1[\"Product_name\"].str.contains(r\"\\Salsa\\b\", case=False, regex=True)\n",
    "product_words.value_counts()"
   ]
  },
  {
   "cell_type": "markdown",
   "id": "cba02e9e",
   "metadata": {},
   "source": [
    "**Yes, we need to drop the rows where the value is False because file suggests keeping only chip-related products.**"
   ]
  },
  {
   "cell_type": "code",
   "execution_count": 174,
   "id": "dc627f49",
   "metadata": {},
   "outputs": [
    {
     "name": "stdout",
     "output_type": "stream",
     "text": [
      "The are  246742 records\n"
     ]
    }
   ],
   "source": [
    "false_products = product_words[product_words == True].index\n",
    "# This is will return all index which is false \n",
    "\n",
    "df_dropped_products = df1.drop(false_products).reset_index(drop=True)\n",
    "# This is wll return olny the products only which is True\n",
    "\n",
    "df_dropped_products.reset_index(drop=True,inplace=True)\n",
    "#This will reset the index\n",
    "\n",
    "\n",
    "print(\"The are \",df_dropped_products.shape[0],\"records\")\n"
   ]
  },
  {
   "cell_type": "code",
   "execution_count": 175,
   "id": "01fd0869",
   "metadata": {},
   "outputs": [
    {
     "data": {
      "text/plain": [
       "array(['Natural Chip        Compny SeaSalt175g',\n",
       "       'CCs Nacho Cheese    175g',\n",
       "       'Smiths Crinkle Cut  Chips Chicken 170g',\n",
       "       'Smiths Chip Thinly  S/Cream&Onion 175g',\n",
       "       'Kettle Tortilla ChpsHny&Jlpno Chili 150g',\n",
       "       'Smiths Crinkle Chips Salt & Vinegar 330g',\n",
       "       'Grain Waves         Sweet Chilli 210g',\n",
       "       'Doritos Corn Chip Mexican Jalapeno 150g',\n",
       "       'Grain Waves Sour    Cream&Chives 210G',\n",
       "       'Kettle Sensations   Siracha Lime 150g',\n",
       "       'Twisties Cheese     270g', 'WW Crinkle Cut      Chicken 175g',\n",
       "       'Thins Chips Light&  Tangy 175g', 'CCs Original 175g',\n",
       "       'Burger Rings 220g', 'NCC Sour Cream &    Garden Chives 175g',\n",
       "       'Doritos Corn Chip Southern Chicken 150g',\n",
       "       'Cheezels Cheese Box 125g', 'Smiths Crinkle      Original 330g',\n",
       "       'Infzns Crn Crnchers Tangy Gcamole 110g',\n",
       "       'Kettle Sea Salt     And Vinegar 175g',\n",
       "       'Smiths Chip Thinly  Cut Original 175g', 'Kettle Original 175g',\n",
       "       'Red Rock Deli Thai  Chilli&Lime 150g',\n",
       "       'Pringles Sthrn FriedChicken 134g', 'Pringles Sweet&Spcy BBQ 134g',\n",
       "       'Thins Chips         Originl saltd 175g',\n",
       "       'Red Rock Deli Sp    Salt & Truffle 150G',\n",
       "       'Smiths Thinly       Swt Chli&S/Cream175G', 'Kettle Chilli 175g',\n",
       "       'Doritos Mexicana    170g',\n",
       "       'Smiths Crinkle Cut  French OnionDip 150g',\n",
       "       'Natural ChipCo      Hony Soy Chckn175g',\n",
       "       'Dorito Corn Chp     Supreme 380g', 'Twisties Chicken270g',\n",
       "       'Smiths Thinly Cut   Roast Chicken 175g',\n",
       "       'Kettle Mozzarella   Basil & Pesto 175g',\n",
       "       'Infuzions Thai SweetChili PotatoMix 110g',\n",
       "       'Kettle Sensations   Camembert & Fig 150g',\n",
       "       'Smith Crinkle Cut   Mac N Cheese 150g',\n",
       "       'Kettle Honey Soy    Chicken 175g',\n",
       "       'Thins Chips Seasonedchicken 175g',\n",
       "       'Smiths Crinkle Cut  Salt & Vinegar 170g',\n",
       "       'Infuzions BBQ Rib   Prawn Crackers 110g',\n",
       "       'GrnWves Plus Btroot & Chilli Jam 180g',\n",
       "       'Tyrrells Crisps     Lightly Salted 165g',\n",
       "       'Kettle Sweet Chilli And Sour Cream 175g',\n",
       "       'Kettle 135g Swt Pot Sea Salt', 'Pringles SourCream  Onion 134g',\n",
       "       'Doritos Corn Chips  Original 170g',\n",
       "       'Twisties Cheese     Burger 250g',\n",
       "       'Cobs Popd Swt/Chlli &Sr/Cream Chips 110g',\n",
       "       'Natural Chip Co     Tmato Hrb&Spce 175g',\n",
       "       'Smiths Crinkle Cut  Chips Original 170g',\n",
       "       'Cobs Popd Sea Salt  Chips 110g',\n",
       "       'Smiths Crinkle Cut  Chips Chs&Onion170g',\n",
       "       'French Fries Potato Chips 175g',\n",
       "       'Doritos Corn Chips  Cheese Supreme 170g',\n",
       "       'Pringles Original   Crisps 134g',\n",
       "       'RRD Chilli&         Coconut 150g',\n",
       "       'WW Original Corn    Chips 200g',\n",
       "       'Thins Potato Chips  Hot & Spicy 175g',\n",
       "       'Cobs Popd Sour Crm  &Chives Chips 110g',\n",
       "       'Smiths Crnkle Chip  Orgnl Big Bag 380g',\n",
       "       'Doritos Corn Chips  Nacho Cheese 170g',\n",
       "       'Kettle Sensations   BBQ&Maple 150g',\n",
       "       'WW D/Style Chip     Sea Salt 200g',\n",
       "       'Pringles Chicken    Salt Crips 134g',\n",
       "       'WW Original Stacked Chips 160g',\n",
       "       'Smiths Chip Thinly  CutSalt/Vinegr175g', 'Cheezels Cheese 330g',\n",
       "       'Tostitos Lightly    Salted 175g',\n",
       "       'Thins Chips Salt &  Vinegar 175g',\n",
       "       'Smiths Crinkle Cut  Chips Barbecue 170g', 'Cheetos Puffs 165g',\n",
       "       'RRD Sweet Chilli &  Sour Cream 165g',\n",
       "       'WW Crinkle Cut      Original 175g',\n",
       "       'Tostitos Splash Of  Lime 175g',\n",
       "       'Kettle Tortilla ChpsBtroot&Ricotta 150g',\n",
       "       'CCs Tasty Cheese    175g', 'Woolworths Cheese   Rings 190g',\n",
       "       'Tostitos Smoked     Chipotle 175g', 'Pringles Barbeque   134g',\n",
       "       'WW Supreme Cheese   Corn Chips 200g',\n",
       "       'Pringles Mystery    Flavour 134g',\n",
       "       'Tyrrells Crisps     Ched & Chives 165g',\n",
       "       'Snbts Whlgrn Crisps Cheddr&Mstrd 90g',\n",
       "       'Cheetos Chs & Bacon Balls 190g', 'Pringles Slt Vingar 134g',\n",
       "       'Infuzions SourCream&Herbs Veg Strws 110g',\n",
       "       'Kettle Tortilla ChpsFeta&Garlic 150g',\n",
       "       'Infuzions Mango     Chutny Papadums 70g',\n",
       "       'RRD Steak &         Chimuchurri 150g',\n",
       "       'RRD Honey Soy       Chicken 165g',\n",
       "       'Sunbites Whlegrn    Crisps Frch/Onin 90g',\n",
       "       'RRD Salt & Vinegar  165g', 'Doritos Cheese      Supreme 330g',\n",
       "       'Smiths Crinkle Cut  Snag&Sauce 150g',\n",
       "       'WW Sour Cream &OnionStacked Chips 160g',\n",
       "       'RRD Lime & Pepper   165g',\n",
       "       'Natural ChipCo Sea  Salt & Vinegr 175g',\n",
       "       'Red Rock Deli Chikn&Garlic Aioli 150g',\n",
       "       'RRD SR Slow Rst     Pork Belly 150g', 'RRD Pc Sea Salt     165g',\n",
       "       'Smith Crinkle Cut   Bolognese 150g'], dtype=object)"
      ]
     },
     "execution_count": 175,
     "metadata": {},
     "output_type": "execute_result"
    }
   ],
   "source": [
    "#Lets check the unique products\n",
    "df_dropped_products['Product_name'].unique()"
   ]
  },
  {
   "cell_type": "code",
   "execution_count": 176,
   "id": "a3d73200",
   "metadata": {},
   "outputs": [],
   "source": [
    "#replacing the unwanted chaacters from the product name\n",
    "df_dropped_products['Product_name'] =  df_dropped_products['Product_name'].str.replace(r'[\\b&\\b|\\b/\\b]',\" \",regex=True)"
   ]
  },
  {
   "cell_type": "code",
   "execution_count": 177,
   "id": "f54c797d",
   "metadata": {},
   "outputs": [],
   "source": [
    "#replacing the incorrect words\n",
    "\n",
    "# Define a dictionary of replacements\n",
    "replacements = {\n",
    "    \"Sr\": \"Sour\",\n",
    "    \"Swt\": \"Sweet\",\n",
    "    \"crm\": \"Cream\",\n",
    "    \"Tmato Hrb\": \"Tomato Herb\",\n",
    "    \"saltd\": \"Salted\",\n",
    "    \"Orgn\": \"Original\",\n",
    "    \"Compny\":\"Company\",\n",
    "    \"Originall\":\"Original\",\n",
    "    \"Hny\":\"Honey\"\n",
    "}\n",
    "\n",
    "# Apply multiple replacements in one step\n",
    "df_dropped_products[\"Product_name\"] = df_dropped_products[\"Product_name\"].replace(replacements, regex=True)\n"
   ]
  },
  {
   "cell_type": "code",
   "execution_count": 178,
   "id": "80991817",
   "metadata": {},
   "outputs": [
    {
     "name": "stderr",
     "output_type": "stream",
     "text": [
      "C:\\Users\\sam\\AppData\\Local\\Temp\\ipykernel_7404\\166026701.py:2: FutureWarning: The default value of regex will change from True to False in a future version.\n",
      "  df_dropped_products['Product_name'] = df_dropped_products['Product_name'].str.replace(r'(\\s+)',\" \").str.strip()\n",
      "C:\\Users\\sam\\AppData\\Local\\Temp\\ipykernel_7404\\166026701.py:10: FutureWarning: The default value of regex will change from True to False in a future version.\n",
      "  df_dropped_products['Product_name'] = df_dropped_products['Product_name'].str.replace(r'(&|S/|/)',\" \")\n"
     ]
    }
   ],
   "source": [
    "#removing extra spaces\n",
    "df_dropped_products['Product_name'] = df_dropped_products['Product_name'].str.replace(r'(\\s+)',\" \").str.strip()\n",
    "\n",
    "#repacing the single characters\n",
    "df_dropped_products['Product_name'] = df_dropped_products['Product_name'].str.replace(r'([a-z])([A-Z])',r'\\1 \\2',regex=True)\n",
    "\n",
    "#repacing the extra digits\n",
    "df_dropped_products['Product_name'] = df_dropped_products['Product_name'].str.replace(r'([a-z])([\\d])',r'\\1 \\2',regex=True)\n",
    "\n",
    "df_dropped_products['Product_name'] = df_dropped_products['Product_name'].str.replace(r'(&|S/|/)',\" \")"
   ]
  },
  {
   "cell_type": "code",
   "execution_count": 179,
   "id": "6b5a1598",
   "metadata": {},
   "outputs": [
    {
     "data": {
      "text/plain": [
       "28026     Kettle Sweet Chilli And Sour Cream 175g\n",
       "116932           Kettle Sea Salt And Vinegar 175g\n",
       "183576                 RRD Honey Soy Chicken 165g\n",
       "83559       Kettle Tortilla Chps Feta Garlic 150g\n",
       "38286     Smiths Crinkle Cut Chips Chs Onion 170g\n",
       "Name: Product_name, dtype: object"
      ]
     },
     "execution_count": 179,
     "metadata": {},
     "output_type": "execute_result"
    }
   ],
   "source": [
    "#cleaned product data\n",
    "df_dropped_products['Product_name'].sample(5)"
   ]
  },
  {
   "cell_type": "markdown",
   "id": "adae652f",
   "metadata": {},
   "source": [
    "**Lets remove the integer part eg: 175gm and make it as a seperate column for further analysis**"
   ]
  },
  {
   "cell_type": "code",
   "execution_count": 180,
   "id": "0ace58de",
   "metadata": {},
   "outputs": [
    {
     "data": {
      "text/plain": [
       "0             Natural Chip Company Sea Salt 175g\n",
       "1                          CCs Nacho Cheese 175g\n",
       "2          Smiths Crinkle Cut Chips Chicken 170g\n",
       "3          Smiths Chip Thinly S Cream Onion 175g\n",
       "4    Kettle Tortilla Chps Honey Jlpno Chili 150g\n",
       "Name: Product_name, dtype: object"
      ]
     },
     "execution_count": 180,
     "metadata": {},
     "output_type": "execute_result"
    }
   ],
   "source": [
    "df_dropped_products['Product_name'].head()"
   ]
  },
  {
   "cell_type": "markdown",
   "id": "814aebb7",
   "metadata": {},
   "source": [
    "### Extracting the digits from the product_name as Weights\n"
   ]
  },
  {
   "cell_type": "code",
   "execution_count": 181,
   "id": "c58edb75",
   "metadata": {},
   "outputs": [
    {
     "data": {
      "text/plain": [
       "194873    200\n",
       "30545     150\n",
       "246110    165\n",
       "129511    270\n",
       "200500    150\n",
       "Name: Weight, dtype: int64"
      ]
     },
     "execution_count": 181,
     "metadata": {},
     "output_type": "execute_result"
    }
   ],
   "source": [
    "df_dropped_products['Weight'] = df_dropped_products['Product_name'].str.extract(r'(\\d+)')\n",
    "\n",
    "#converting into numeric values\n",
    "df_dropped_products['Weight'] = pd.to_numeric(df_dropped_products['Weight'])\n",
    "\n",
    "\n",
    "df_dropped_products['Weight'].sample(5)"
   ]
  },
  {
   "cell_type": "code",
   "execution_count": 182,
   "id": "71fb1387",
   "metadata": {},
   "outputs": [
    {
     "name": "stderr",
     "output_type": "stream",
     "text": [
      "C:\\Users\\sam\\AppData\\Local\\Temp\\ipykernel_7404\\3962065458.py:2: FutureWarning: The default value of regex will change from True to False in a future version.\n",
      "  df_dropped_products['Product_name'] = df_dropped_products['Product_name'].str.replace(r'([\\d]+[Gg?])',\" \").str.strip()\n"
     ]
    },
    {
     "data": {
      "text/html": [
       "<div>\n",
       "<style scoped>\n",
       "    .dataframe tbody tr th:only-of-type {\n",
       "        vertical-align: middle;\n",
       "    }\n",
       "\n",
       "    .dataframe tbody tr th {\n",
       "        vertical-align: top;\n",
       "    }\n",
       "\n",
       "    .dataframe thead th {\n",
       "        text-align: right;\n",
       "    }\n",
       "</style>\n",
       "<table border=\"1\" class=\"dataframe\">\n",
       "  <thead>\n",
       "    <tr style=\"text-align: right;\">\n",
       "      <th></th>\n",
       "      <th>Product_name</th>\n",
       "    </tr>\n",
       "  </thead>\n",
       "  <tbody>\n",
       "    <tr>\n",
       "      <th>0</th>\n",
       "      <td>Natural Chip Company Sea Salt</td>\n",
       "    </tr>\n",
       "    <tr>\n",
       "      <th>1</th>\n",
       "      <td>CCs Nacho Cheese</td>\n",
       "    </tr>\n",
       "    <tr>\n",
       "      <th>2</th>\n",
       "      <td>Smiths Crinkle Cut Chips Chicken</td>\n",
       "    </tr>\n",
       "    <tr>\n",
       "      <th>3</th>\n",
       "      <td>Smiths Chip Thinly S Cream Onion</td>\n",
       "    </tr>\n",
       "    <tr>\n",
       "      <th>4</th>\n",
       "      <td>Kettle Tortilla Chps Honey Jlpno Chili</td>\n",
       "    </tr>\n",
       "  </tbody>\n",
       "</table>\n",
       "</div>"
      ],
      "text/plain": [
       "                             Product_name\n",
       "0           Natural Chip Company Sea Salt\n",
       "1                        CCs Nacho Cheese\n",
       "2        Smiths Crinkle Cut Chips Chicken\n",
       "3        Smiths Chip Thinly S Cream Onion\n",
       "4  Kettle Tortilla Chps Honey Jlpno Chili"
      ]
     },
     "execution_count": 182,
     "metadata": {},
     "output_type": "execute_result"
    }
   ],
   "source": [
    "#replacing the digits with spaces in the product_name\n",
    "df_dropped_products['Product_name'] = df_dropped_products['Product_name'].str.replace(r'([\\d]+[Gg?])',\" \").str.strip()\n",
    "\n",
    "df_dropped_products[['Product_name']].head()"
   ]
  },
  {
   "cell_type": "markdown",
   "id": "d97f3884",
   "metadata": {},
   "source": [
    "### **No we have cleaned the Product names now lets start detecting the outliers and remove it**"
   ]
  },
  {
   "cell_type": "markdown",
   "id": "9fc08dcf",
   "metadata": {},
   "source": [
    "**Identify Transactions with High Quantities > or = 200**"
   ]
  },
  {
   "cell_type": "code",
   "execution_count": 183,
   "id": "530591f9",
   "metadata": {},
   "outputs": [
    {
     "data": {
      "text/html": [
       "<div>\n",
       "<style scoped>\n",
       "    .dataframe tbody tr th:only-of-type {\n",
       "        vertical-align: middle;\n",
       "    }\n",
       "\n",
       "    .dataframe tbody tr th {\n",
       "        vertical-align: top;\n",
       "    }\n",
       "\n",
       "    .dataframe thead th {\n",
       "        text-align: right;\n",
       "    }\n",
       "</style>\n",
       "<table border=\"1\" class=\"dataframe\">\n",
       "  <thead>\n",
       "    <tr style=\"text-align: right;\">\n",
       "      <th></th>\n",
       "      <th>Date</th>\n",
       "      <th>Store_id</th>\n",
       "      <th>Loyalty_id</th>\n",
       "      <th>Tax_id</th>\n",
       "      <th>Product_id</th>\n",
       "      <th>Product_name</th>\n",
       "      <th>Quantity</th>\n",
       "      <th>Total_sales</th>\n",
       "      <th>Weight</th>\n",
       "    </tr>\n",
       "  </thead>\n",
       "  <tbody>\n",
       "    <tr>\n",
       "      <th>64955</th>\n",
       "      <td>2018-08-19</td>\n",
       "      <td>226</td>\n",
       "      <td>226000</td>\n",
       "      <td>226201</td>\n",
       "      <td>4</td>\n",
       "      <td>Dorito Corn Chp Supreme</td>\n",
       "      <td>200</td>\n",
       "      <td>650.0</td>\n",
       "      <td>380</td>\n",
       "    </tr>\n",
       "    <tr>\n",
       "      <th>64956</th>\n",
       "      <td>2019-05-20</td>\n",
       "      <td>226</td>\n",
       "      <td>226000</td>\n",
       "      <td>226210</td>\n",
       "      <td>4</td>\n",
       "      <td>Dorito Corn Chp Supreme</td>\n",
       "      <td>200</td>\n",
       "      <td>650.0</td>\n",
       "      <td>380</td>\n",
       "    </tr>\n",
       "  </tbody>\n",
       "</table>\n",
       "</div>"
      ],
      "text/plain": [
       "            Date  Store_id  Loyalty_id  Tax_id  Product_id  \\\n",
       "64955 2018-08-19       226      226000  226201           4   \n",
       "64956 2019-05-20       226      226000  226210           4   \n",
       "\n",
       "                  Product_name  Quantity  Total_sales  Weight  \n",
       "64955  Dorito Corn Chp Supreme       200        650.0     380  \n",
       "64956  Dorito Corn Chp Supreme       200        650.0     380  "
      ]
     },
     "execution_count": 183,
     "metadata": {},
     "output_type": "execute_result"
    }
   ],
   "source": [
    "df_dropped_products[df_dropped_products['Quantity']>=200]"
   ]
  },
  {
   "cell_type": "markdown",
   "id": "f44d527e",
   "metadata": {},
   "source": [
    "**There are 2  products which contain > or = 200**"
   ]
  },
  {
   "cell_type": "code",
   "execution_count": 184,
   "id": "82771993",
   "metadata": {},
   "outputs": [
    {
     "data": {
      "text/plain": [
       "0"
      ]
     },
     "execution_count": 184,
     "metadata": {},
     "output_type": "execute_result"
    }
   ],
   "source": [
    "#reducing the data less than 200 quantites since the customer is a wholsesale purchaser \n",
    "df_dropped_products = df_dropped_products[df_dropped_products['Quantity']<200]\n",
    "\n",
    "#checking the records anything > than 200\n",
    "df_dropped_products[df_dropped_products['Quantity']>=200].count().sum()"
   ]
  },
  {
   "cell_type": "code",
   "execution_count": 185,
   "id": "b2bded41",
   "metadata": {},
   "outputs": [
    {
     "data": {
      "text/plain": [
       "5"
      ]
     },
     "execution_count": 185,
     "metadata": {},
     "output_type": "execute_result"
    }
   ],
   "source": [
    "df_dropped_products['Quantity'].max()\n",
    "\n",
    "#since the max quantity is 5 it is reasonable so we have removed the outliers "
   ]
  },
  {
   "cell_type": "markdown",
   "id": "22126c40",
   "metadata": {},
   "source": [
    "**It is free from outliers, Lets check the date**"
   ]
  },
  {
   "cell_type": "code",
   "execution_count": 186,
   "id": "775f94af",
   "metadata": {},
   "outputs": [
    {
     "data": {
      "text/plain": [
       "0   2018-10-17\n",
       "1   2019-05-14\n",
       "2   2019-05-20\n",
       "3   2018-08-17\n",
       "4   2018-08-18\n",
       "Name: Date, dtype: datetime64[ns]"
      ]
     },
     "execution_count": 186,
     "metadata": {},
     "output_type": "execute_result"
    }
   ],
   "source": [
    "dates = df_dropped_products['Date']\n",
    "dates.head()"
   ]
  },
  {
   "cell_type": "code",
   "execution_count": 187,
   "id": "69739701",
   "metadata": {},
   "outputs": [
    {
     "data": {
      "text/plain": [
       "DatetimeIndex(['2018-12-25'], dtype='datetime64[ns]', freq=None)"
      ]
     },
     "execution_count": 187,
     "metadata": {},
     "output_type": "execute_result"
    }
   ],
   "source": [
    "pd.date_range(start=dates.min(), end=dates.max()).difference(df_dropped_products['Date'])"
   ]
  },
  {
   "cell_type": "markdown",
   "id": "d863d7e4",
   "metadata": {},
   "source": [
    "**The missing Date is '2018-12-25' which is chrsitmas Let's insert it**"
   ]
  },
  {
   "cell_type": "code",
   "execution_count": 188,
   "id": "04143929",
   "metadata": {},
   "outputs": [
    {
     "data": {
      "text/html": [
       "<div>\n",
       "<style scoped>\n",
       "    .dataframe tbody tr th:only-of-type {\n",
       "        vertical-align: middle;\n",
       "    }\n",
       "\n",
       "    .dataframe tbody tr th {\n",
       "        vertical-align: top;\n",
       "    }\n",
       "\n",
       "    .dataframe thead th {\n",
       "        text-align: right;\n",
       "    }\n",
       "</style>\n",
       "<table border=\"1\" class=\"dataframe\">\n",
       "  <thead>\n",
       "    <tr style=\"text-align: right;\">\n",
       "      <th></th>\n",
       "      <th>Date</th>\n",
       "      <th>Store_id</th>\n",
       "      <th>Loyalty_id</th>\n",
       "      <th>Tax_id</th>\n",
       "      <th>Product_id</th>\n",
       "      <th>Product_name</th>\n",
       "      <th>Quantity</th>\n",
       "      <th>Total_sales</th>\n",
       "      <th>Weight</th>\n",
       "    </tr>\n",
       "  </thead>\n",
       "  <tbody>\n",
       "    <tr>\n",
       "      <th>120465</th>\n",
       "      <td>2018-12-25</td>\n",
       "      <td>NaN</td>\n",
       "      <td>NaN</td>\n",
       "      <td>NaN</td>\n",
       "      <td>NaN</td>\n",
       "      <td>NaN</td>\n",
       "      <td>NaN</td>\n",
       "      <td>NaN</td>\n",
       "      <td>NaN</td>\n",
       "    </tr>\n",
       "  </tbody>\n",
       "</table>\n",
       "</div>"
      ],
      "text/plain": [
       "             Date  Store_id  Loyalty_id  Tax_id  Product_id Product_name  \\\n",
       "120465 2018-12-25       NaN         NaN     NaN         NaN          NaN   \n",
       "\n",
       "        Quantity  Total_sales  Weight  \n",
       "120465       NaN          NaN     NaN  "
      ]
     },
     "execution_count": 188,
     "metadata": {},
     "output_type": "execute_result"
    }
   ],
   "source": [
    "#df_dropped_products['Date'] = pd.to_datetime(df_dropped_products['Date'], format=\"%d-%m-%Y\")\n",
    "\n",
    "#calculates and finds the missing date \n",
    "full_date_range = pd.date_range(start=dates.min(), end=dates.max())\n",
    "\n",
    "merged_df = pd.merge(pd.Series(full_date_range,name='Date'),df_dropped_products,on='Date',how='left')\n",
    "\n",
    "#let's check the records\n",
    "merged_df[merged_df['Date']=='2018-12-25' ]"
   ]
  },
  {
   "cell_type": "markdown",
   "id": "86b5a674",
   "metadata": {},
   "source": [
    "**checking the weights to check any outliers................**"
   ]
  },
  {
   "cell_type": "code",
   "execution_count": 189,
   "id": "e8e74914",
   "metadata": {},
   "outputs": [
    {
     "name": "stdout",
     "output_type": "stream",
     "text": [
      "The min of weight is  70 The max of weight is 380 Seems sensibile\n"
     ]
    }
   ],
   "source": [
    "print(\"The min of weight is \",df_dropped_products['Weight'].min(),\"The max of weight is\",\n",
    "      df_dropped_products['Weight'].max(),\"Seems sensibile\")"
   ]
  },
  {
   "cell_type": "code",
   "execution_count": null,
   "id": "f949afc7",
   "metadata": {},
   "outputs": [],
   "source": []
  },
  {
   "cell_type": "markdown",
   "id": "f487a4d5",
   "metadata": {},
   "source": [
    "## Time-Series Analysis\n",
    "### All time sales Trend"
   ]
  },
  {
   "cell_type": "code",
   "execution_count": 190,
   "id": "60cde93c",
   "metadata": {},
   "outputs": [
    {
     "data": {
      "image/png": "[encoded data removed]",
      "text/plain": [
       "<Figure size 1080x360 with 1 Axes>"
      ]
     },
     "metadata": {
      "needs_background": "light"
     },
     "output_type": "display_data"
    }
   ],
   "source": [
    "\n",
    "date_range = pd.date_range(start='2018-07-01', end='2019-06-30', freq='D')\n",
    "\n",
    "df_filtered = merged_df[(merged_df['Date'] >= '2018-07-01') & (merged_df['Date'] <= '2019-06-30')]\n",
    "# Step 3: Group by the date and count the transactions per day\n",
    "transaction_counts = df_filtered.groupby('Date').size()\n",
    "\n",
    "# Step 4: Reindex the counts to match the full date range\n",
    "transaction_counts_full = transaction_counts.reindex(date_range, fill_value=0)\n",
    "\n",
    "# Step 5: Plot the trend\n",
    "plt.figure(figsize=(15,5))\n",
    "transaction_counts_full.plot(kind='line',color='blue')\n",
    "plt.title('Number of Transactions from 1st July 2018 to 30th June 2019')\n",
    "plt.xlabel('Date')\n",
    "plt.ylabel('Number of Transactions')\n",
    "plt.xticks(rotation=45)\n",
    "plt.grid(True)\n",
    "plt.show()"
   ]
  },
  {
   "cell_type": "markdown",
   "id": "5a2c54fa",
   "metadata": {},
   "source": [
    "## December month sales Trend"
   ]
  },
  {
   "cell_type": "code",
   "execution_count": 191,
   "id": "7e2e7e7e",
   "metadata": {},
   "outputs": [
    {
     "data": {
      "image/png": "[encoded data removed]",
      "text/plain": [
       "<Figure size 1080x288 with 1 Axes>"
      ]
     },
     "metadata": {
      "needs_background": "light"
     },
     "output_type": "display_data"
    }
   ],
   "source": [
    "dec_month =  merged_df[(merged_df['Date'] >= '2018-12-01') & (merged_df['Date'] < '2019-01-01')]\n",
    "\n",
    "\n",
    "\n",
    "plt.figure(figsize=(15,4))\n",
    "d = dec_month.groupby('Date').size().plot(marker='o',color='darkblue')\n",
    "plt.title('December month sales trend')\n",
    "plt.xlabel('Date')\n",
    "plt.ylabel('Number of Transactions')\n",
    "plt.xticks(rotation=45)\n",
    "plt.grid(True)\n",
    "plt.show()\n"
   ]
  },
  {
   "cell_type": "markdown",
   "id": "75b79f7b",
   "metadata": {},
   "source": [
    "**Insights\n",
    "We can see that the increase in sales occurs in the lead-up to Christmas and that there are zero sales on Christmas day itself. This is due to shops being closed on Christmas day.**"
   ]
  },
  {
   "cell_type": "markdown",
   "id": "772fb36d",
   "metadata": {},
   "source": [
    "#### Exploring the Weights (grms)"
   ]
  },
  {
   "cell_type": "code",
   "execution_count": 192,
   "id": "02fb371d",
   "metadata": {},
   "outputs": [
    {
     "data": {
      "text/plain": [
       "count    246740.000000\n",
       "mean        175.583521\n",
       "std          59.432118\n",
       "min          70.000000\n",
       "25%         150.000000\n",
       "50%         170.000000\n",
       "75%         175.000000\n",
       "max         380.000000\n",
       "Name: Weight, dtype: float64"
      ]
     },
     "execution_count": 192,
     "metadata": {},
     "output_type": "execute_result"
    }
   ],
   "source": [
    "df_dropped_products['Weight'].describe()"
   ]
  },
  {
   "cell_type": "code",
   "execution_count": 193,
   "id": "30b28a3b",
   "metadata": {},
   "outputs": [
    {
     "data": {
      "image/png": "[encoded data removed]",
      "text/plain": [
       "<Figure size 504x360 with 1 Axes>"
      ]
     },
     "metadata": {
      "needs_background": "light"
     },
     "output_type": "display_data"
    }
   ],
   "source": [
    "plt.figure(figsize=(7,5))\n",
    "sns.histplot(df_dropped_products['Weight'],bins=(5),kde=True)\n",
    "plt.title('Weight distribution')\n",
    "plt.show()"
   ]
  },
  {
   "cell_type": "markdown",
   "id": "7cdf69e9",
   "metadata": {},
   "source": [
    "**Most of the values are concentrated in the lower to mid-range, with a peak around the middle. This suggests that the majority of data points fall within a specific central range, while fewer values extend towards the higher end.**"
   ]
  },
  {
   "cell_type": "code",
   "execution_count": null,
   "id": "767fc37c",
   "metadata": {},
   "outputs": [],
   "source": []
  },
  {
   "cell_type": "markdown",
   "id": "dbbe7945",
   "metadata": {},
   "source": [
    "**Normalize Brand Names**"
   ]
  },
  {
   "cell_type": "code",
   "execution_count": 194,
   "id": "39ab4fde",
   "metadata": {},
   "outputs": [
    {
     "data": {
      "text/plain": [
       "array(['Natural Chip Co', 'CCs', 'Smiths', 'Kettle', 'Grain Waves',\n",
       "       'Doritos', 'Twisties', 'Woolworths', 'Thins', 'Burger', 'Cheezels',\n",
       "       'Infuzions', 'RRD', 'Pringles', 'Grn', 'Tyrrells', 'Cobs Popd',\n",
       "       'French Fries', 'Tostitos', 'Cheetos', 'Sunbites'], dtype=object)"
      ]
     },
     "execution_count": 194,
     "metadata": {},
     "output_type": "execute_result"
    }
   ],
   "source": [
    "df_dropped_products['Brand_name']  = df_dropped_products['Product_name'].str.split().str[0]\n",
    "#  the split method splits the word\n",
    "#  the str method extracts the first word \n",
    "\n",
    "# Dictionary to fix brand inconsistencies\n",
    "brand_replacements = {\n",
    "    \"WW\": \"Woolworths\",\n",
    "    \"Natural\": \"Natural Chip Co\",\n",
    "    \"Cobs\": \"Cobs Popd\",\n",
    "    \"Smiths\": \"Smiths\",\n",
    "    \"Doritos\": \"Doritos\",\n",
    "    \"Thins\": \"Thins\",\n",
    "    \"French\": \"French Fries\",\n",
    "    \"Dorito\": \"Doritos\",\n",
    "    \"GrnWves\": \"Grain Waves\",\n",
    "    \"Grain\": \"Grain Waves\",\n",
    "    \"Infzns\": \"Infuzions\",\n",
    "    \"NCC\": \"Natural Chip Co\",\n",
    "    \"Red\": \"RRD\",\n",
    "    \"Smith\": \"Smiths\",\n",
    "    \"Snbts\": \"Sunbites\"\n",
    "}\n",
    "\n",
    "# Standardize brand names\n",
    "df_dropped_products[\"Brand_name\"] = df_dropped_products[\"Brand_name\"].replace(brand_replacements)\n",
    "\n",
    "df_dropped_products.Brand_name.unique()"
   ]
  },
  {
   "cell_type": "code",
   "execution_count": 195,
   "id": "f51b8572",
   "metadata": {},
   "outputs": [
    {
     "data": {
      "image/png": "[encoded data removed]",
      "text/plain": [
       "<Figure size 1224x432 with 1 Axes>"
      ]
     },
     "metadata": {
      "needs_background": "light"
     },
     "output_type": "display_data"
    }
   ],
   "source": [
    "df_dropped_products.groupby('Brand_name').size().sort_values(ascending=False).plot.bar(figsize=(17,6))\n",
    "plt.title('Sales')\n",
    "plt.show()"
   ]
  },
  {
   "cell_type": "markdown",
   "id": "129ce71b",
   "metadata": {},
   "source": [
    "### Highly Skewed Distribution:\n",
    "\n",
    "- **A few categories have significantly higher values compared to the rest.\n",
    "    The first few bars dominate, indicating a strong concentration of sales or transactions in a few segments.\n",
    "    Top Categories Drive Performance:**\n",
    "\n",
    "\n",
    "\n",
    "\n",
    "- **The first 4-5 categories contribute the most to the overall total.**\n"
   ]
  },
  {
   "cell_type": "code",
   "execution_count": 196,
   "id": "b1fc7c6c",
   "metadata": {},
   "outputs": [],
   "source": [
    "transaction_df = df_dropped_products\n",
    "#changed the variable name "
   ]
  },
  {
   "cell_type": "markdown",
   "id": "d13063d0",
   "metadata": {},
   "source": [
    "## Loading customer_data"
   ]
  },
  {
   "cell_type": "code",
   "execution_count": 197,
   "id": "b02e00d2",
   "metadata": {},
   "outputs": [],
   "source": [
    "purchase_df = pd.read_csv(\"C:\\\\Users\\\\sam\\\\Downloads\\\\QVI_purchase_behaviour.csv\")"
   ]
  },
  {
   "cell_type": "code",
   "execution_count": 198,
   "id": "45d3b1ed",
   "metadata": {},
   "outputs": [
    {
     "data": {
      "text/plain": [
       "LYLTY_CARD_NBR      False\n",
       "LIFESTAGE           False\n",
       "PREMIUM_CUSTOMER    False\n",
       "dtype: bool"
      ]
     },
     "execution_count": 198,
     "metadata": {},
     "output_type": "execute_result"
    }
   ],
   "source": [
    "#ckecking null values\n",
    "purchase_df.isna().any()"
   ]
  },
  {
   "cell_type": "code",
   "execution_count": 199,
   "id": "68e51daf",
   "metadata": {},
   "outputs": [
    {
     "data": {
      "text/plain": [
       "LYLTY_CARD_NBR      0\n",
       "LIFESTAGE           0\n",
       "PREMIUM_CUSTOMER    0\n",
       "dtype: int64"
      ]
     },
     "execution_count": 199,
     "metadata": {},
     "output_type": "execute_result"
    }
   ],
   "source": [
    "#ckecking null values\n",
    "purchase_df.isnull().sum()"
   ]
  },
  {
   "cell_type": "code",
   "execution_count": 200,
   "id": "a0f99e7e",
   "metadata": {},
   "outputs": [
    {
     "data": {
      "text/html": [
       "<div>\n",
       "<style scoped>\n",
       "    .dataframe tbody tr th:only-of-type {\n",
       "        vertical-align: middle;\n",
       "    }\n",
       "\n",
       "    .dataframe tbody tr th {\n",
       "        vertical-align: top;\n",
       "    }\n",
       "\n",
       "    .dataframe thead th {\n",
       "        text-align: right;\n",
       "    }\n",
       "</style>\n",
       "<table border=\"1\" class=\"dataframe\">\n",
       "  <thead>\n",
       "    <tr style=\"text-align: right;\">\n",
       "      <th></th>\n",
       "      <th>Loyalty_id</th>\n",
       "      <th>Life_stage</th>\n",
       "      <th>Premier_customer</th>\n",
       "    </tr>\n",
       "  </thead>\n",
       "  <tbody>\n",
       "    <tr>\n",
       "      <th>0</th>\n",
       "      <td>1000</td>\n",
       "      <td>YOUNG SINGLES/COUPLES</td>\n",
       "      <td>Premium</td>\n",
       "    </tr>\n",
       "    <tr>\n",
       "      <th>1</th>\n",
       "      <td>1002</td>\n",
       "      <td>YOUNG SINGLES/COUPLES</td>\n",
       "      <td>Mainstream</td>\n",
       "    </tr>\n",
       "    <tr>\n",
       "      <th>2</th>\n",
       "      <td>1003</td>\n",
       "      <td>YOUNG FAMILIES</td>\n",
       "      <td>Budget</td>\n",
       "    </tr>\n",
       "    <tr>\n",
       "      <th>3</th>\n",
       "      <td>1004</td>\n",
       "      <td>OLDER SINGLES/COUPLES</td>\n",
       "      <td>Mainstream</td>\n",
       "    </tr>\n",
       "    <tr>\n",
       "      <th>4</th>\n",
       "      <td>1005</td>\n",
       "      <td>MIDAGE SINGLES/COUPLES</td>\n",
       "      <td>Mainstream</td>\n",
       "    </tr>\n",
       "  </tbody>\n",
       "</table>\n",
       "</div>"
      ],
      "text/plain": [
       "   Loyalty_id              Life_stage Premier_customer\n",
       "0        1000   YOUNG SINGLES/COUPLES          Premium\n",
       "1        1002   YOUNG SINGLES/COUPLES       Mainstream\n",
       "2        1003          YOUNG FAMILIES           Budget\n",
       "3        1004   OLDER SINGLES/COUPLES       Mainstream\n",
       "4        1005  MIDAGE SINGLES/COUPLES       Mainstream"
      ]
     },
     "execution_count": 200,
     "metadata": {},
     "output_type": "execute_result"
    }
   ],
   "source": [
    "#Changing the column names\n",
    "purchase_df = purchase_df.rename(columns={'LYLTY_CARD_NBR':'Loyalty_id','LIFESTAGE'\n",
    "                            :'Life_stage','PREMIUM_CUSTOMER':'Premier_customer'})\n",
    "purchase_df.head()"
   ]
  },
  {
   "cell_type": "code",
   "execution_count": 201,
   "id": "09906d30",
   "metadata": {},
   "outputs": [
    {
     "data": {
      "text/plain": [
       "numpy.int64"
      ]
     },
     "execution_count": 201,
     "metadata": {},
     "output_type": "execute_result"
    }
   ],
   "source": [
    "type(purchase_df.Loyalty_id[0])"
   ]
  },
  {
   "cell_type": "code",
   "execution_count": 202,
   "id": "14b03f9f",
   "metadata": {},
   "outputs": [
    {
     "data": {
      "text/plain": [
       "array(['YOUNG SINGLES/COUPLES', 'YOUNG FAMILIES', 'OLDER SINGLES/COUPLES',\n",
       "       'MIDAGE SINGLES/COUPLES', 'NEW FAMILIES', 'OLDER FAMILIES',\n",
       "       'RETIREES'], dtype=object)"
      ]
     },
     "execution_count": 202,
     "metadata": {},
     "output_type": "execute_result"
    }
   ],
   "source": [
    "purchase_df.Life_stage.unique() "
   ]
  },
  {
   "cell_type": "code",
   "execution_count": 203,
   "id": "100965a8",
   "metadata": {},
   "outputs": [],
   "source": [
    "# let's seperates \"SINGLES/\" from the data \n",
    "\n",
    "\n",
    "purchase_df['Life_stage'] = purchase_df['Life_stage'].str.title()\n",
    "# title() converts all upper case to title_case characters\n"
   ]
  },
  {
   "cell_type": "code",
   "execution_count": 204,
   "id": "adedd73c",
   "metadata": {},
   "outputs": [
    {
     "data": {
      "text/html": [
       "<div>\n",
       "<style scoped>\n",
       "    .dataframe tbody tr th:only-of-type {\n",
       "        vertical-align: middle;\n",
       "    }\n",
       "\n",
       "    .dataframe tbody tr th {\n",
       "        vertical-align: top;\n",
       "    }\n",
       "\n",
       "    .dataframe thead th {\n",
       "        text-align: right;\n",
       "    }\n",
       "</style>\n",
       "<table border=\"1\" class=\"dataframe\">\n",
       "  <thead>\n",
       "    <tr style=\"text-align: right;\">\n",
       "      <th></th>\n",
       "      <th>Loyalty_id</th>\n",
       "      <th>Life_stage</th>\n",
       "      <th>Premier_customer</th>\n",
       "    </tr>\n",
       "  </thead>\n",
       "  <tbody>\n",
       "    <tr>\n",
       "      <th>15190</th>\n",
       "      <td>56044</td>\n",
       "      <td>Young Families</td>\n",
       "      <td>Mainstream</td>\n",
       "    </tr>\n",
       "    <tr>\n",
       "      <th>66672</th>\n",
       "      <td>249303</td>\n",
       "      <td>Midage Singles/Couples</td>\n",
       "      <td>Mainstream</td>\n",
       "    </tr>\n",
       "    <tr>\n",
       "      <th>52491</th>\n",
       "      <td>197241</td>\n",
       "      <td>Midage Singles/Couples</td>\n",
       "      <td>Mainstream</td>\n",
       "    </tr>\n",
       "    <tr>\n",
       "      <th>30562</th>\n",
       "      <td>112146</td>\n",
       "      <td>Older Families</td>\n",
       "      <td>Mainstream</td>\n",
       "    </tr>\n",
       "    <tr>\n",
       "      <th>49348</th>\n",
       "      <td>184235</td>\n",
       "      <td>Midage Singles/Couples</td>\n",
       "      <td>Premium</td>\n",
       "    </tr>\n",
       "  </tbody>\n",
       "</table>\n",
       "</div>"
      ],
      "text/plain": [
       "       Loyalty_id              Life_stage Premier_customer\n",
       "15190       56044          Young Families       Mainstream\n",
       "66672      249303  Midage Singles/Couples       Mainstream\n",
       "52491      197241  Midage Singles/Couples       Mainstream\n",
       "30562      112146          Older Families       Mainstream\n",
       "49348      184235  Midage Singles/Couples          Premium"
      ]
     },
     "execution_count": 204,
     "metadata": {},
     "output_type": "execute_result"
    }
   ],
   "source": [
    "purchase_df.sample(5)"
   ]
  },
  {
   "cell_type": "markdown",
   "id": "38f58e45",
   "metadata": {},
   "source": [
    "## **Combining the Data**"
   ]
  },
  {
   "cell_type": "code",
   "execution_count": 205,
   "id": "7d307cb9",
   "metadata": {},
   "outputs": [
    {
     "data": {
      "text/html": [
       "<div>\n",
       "<style scoped>\n",
       "    .dataframe tbody tr th:only-of-type {\n",
       "        vertical-align: middle;\n",
       "    }\n",
       "\n",
       "    .dataframe tbody tr th {\n",
       "        vertical-align: top;\n",
       "    }\n",
       "\n",
       "    .dataframe thead th {\n",
       "        text-align: right;\n",
       "    }\n",
       "</style>\n",
       "<table border=\"1\" class=\"dataframe\">\n",
       "  <thead>\n",
       "    <tr style=\"text-align: right;\">\n",
       "      <th></th>\n",
       "      <th>Date</th>\n",
       "      <th>Store_id</th>\n",
       "      <th>Loyalty_id</th>\n",
       "      <th>Tax_id</th>\n",
       "      <th>Product_id</th>\n",
       "      <th>Product_name</th>\n",
       "      <th>Quantity</th>\n",
       "      <th>Total_sales</th>\n",
       "      <th>Weight</th>\n",
       "      <th>Brand_name</th>\n",
       "      <th>Life_stage</th>\n",
       "      <th>Premier_customer</th>\n",
       "    </tr>\n",
       "  </thead>\n",
       "  <tbody>\n",
       "    <tr>\n",
       "      <th>0</th>\n",
       "      <td>2018-10-17</td>\n",
       "      <td>1</td>\n",
       "      <td>1000</td>\n",
       "      <td>1</td>\n",
       "      <td>5</td>\n",
       "      <td>Natural Chip Company Sea Salt</td>\n",
       "      <td>2</td>\n",
       "      <td>6.0</td>\n",
       "      <td>175</td>\n",
       "      <td>Natural Chip Co</td>\n",
       "      <td>Young Singles/Couples</td>\n",
       "      <td>Premium</td>\n",
       "    </tr>\n",
       "    <tr>\n",
       "      <th>1</th>\n",
       "      <td>2019-05-14</td>\n",
       "      <td>1</td>\n",
       "      <td>1307</td>\n",
       "      <td>348</td>\n",
       "      <td>66</td>\n",
       "      <td>CCs Nacho Cheese</td>\n",
       "      <td>3</td>\n",
       "      <td>6.3</td>\n",
       "      <td>175</td>\n",
       "      <td>CCs</td>\n",
       "      <td>Midage Singles/Couples</td>\n",
       "      <td>Budget</td>\n",
       "    </tr>\n",
       "    <tr>\n",
       "      <th>2</th>\n",
       "      <td>2019-05-20</td>\n",
       "      <td>1</td>\n",
       "      <td>1343</td>\n",
       "      <td>383</td>\n",
       "      <td>61</td>\n",
       "      <td>Smiths Crinkle Cut Chips Chicken</td>\n",
       "      <td>2</td>\n",
       "      <td>2.9</td>\n",
       "      <td>170</td>\n",
       "      <td>Smiths</td>\n",
       "      <td>Midage Singles/Couples</td>\n",
       "      <td>Budget</td>\n",
       "    </tr>\n",
       "    <tr>\n",
       "      <th>3</th>\n",
       "      <td>2018-08-17</td>\n",
       "      <td>2</td>\n",
       "      <td>2373</td>\n",
       "      <td>974</td>\n",
       "      <td>69</td>\n",
       "      <td>Smiths Chip Thinly S Cream Onion</td>\n",
       "      <td>5</td>\n",
       "      <td>15.0</td>\n",
       "      <td>175</td>\n",
       "      <td>Smiths</td>\n",
       "      <td>Midage Singles/Couples</td>\n",
       "      <td>Budget</td>\n",
       "    </tr>\n",
       "    <tr>\n",
       "      <th>4</th>\n",
       "      <td>2018-08-18</td>\n",
       "      <td>2</td>\n",
       "      <td>2426</td>\n",
       "      <td>1038</td>\n",
       "      <td>108</td>\n",
       "      <td>Kettle Tortilla Chps Honey Jlpno Chili</td>\n",
       "      <td>3</td>\n",
       "      <td>13.8</td>\n",
       "      <td>150</td>\n",
       "      <td>Kettle</td>\n",
       "      <td>Midage Singles/Couples</td>\n",
       "      <td>Budget</td>\n",
       "    </tr>\n",
       "  </tbody>\n",
       "</table>\n",
       "</div>"
      ],
      "text/plain": [
       "        Date  Store_id  Loyalty_id  Tax_id  Product_id  \\\n",
       "0 2018-10-17         1        1000       1           5   \n",
       "1 2019-05-14         1        1307     348          66   \n",
       "2 2019-05-20         1        1343     383          61   \n",
       "3 2018-08-17         2        2373     974          69   \n",
       "4 2018-08-18         2        2426    1038         108   \n",
       "\n",
       "                             Product_name  Quantity  Total_sales  Weight  \\\n",
       "0           Natural Chip Company Sea Salt         2          6.0     175   \n",
       "1                        CCs Nacho Cheese         3          6.3     175   \n",
       "2        Smiths Crinkle Cut Chips Chicken         2          2.9     170   \n",
       "3        Smiths Chip Thinly S Cream Onion         5         15.0     175   \n",
       "4  Kettle Tortilla Chps Honey Jlpno Chili         3         13.8     150   \n",
       "\n",
       "        Brand_name              Life_stage Premier_customer  \n",
       "0  Natural Chip Co   Young Singles/Couples          Premium  \n",
       "1              CCs  Midage Singles/Couples           Budget  \n",
       "2           Smiths  Midage Singles/Couples           Budget  \n",
       "3           Smiths  Midage Singles/Couples           Budget  \n",
       "4           Kettle  Midage Singles/Couples           Budget  "
      ]
     },
     "execution_count": 205,
     "metadata": {},
     "output_type": "execute_result"
    }
   ],
   "source": [
    "customer_df = pd.merge(transaction_df,purchase_df,on='Loyalty_id',how='left')\n",
    "customer_df.head()"
   ]
  },
  {
   "cell_type": "code",
   "execution_count": 206,
   "id": "dece299f",
   "metadata": {},
   "outputs": [
    {
     "data": {
      "text/plain": [
       "0"
      ]
     },
     "execution_count": 206,
     "metadata": {},
     "output_type": "execute_result"
    }
   ],
   "source": [
    "customer_df.isnull().any().sum()"
   ]
  },
  {
   "cell_type": "code",
   "execution_count": 207,
   "id": "ba8a146b",
   "metadata": {},
   "outputs": [
    {
     "data": {
      "text/plain": [
       "0"
      ]
     },
     "execution_count": 207,
     "metadata": {},
     "output_type": "execute_result"
    }
   ],
   "source": [
    "customer_df.isna().any().sum()"
   ]
  },
  {
   "cell_type": "markdown",
   "id": "1cd83ab5",
   "metadata": {},
   "source": [
    "**So all our customers in the transaction data has been accounted for in the customer dataset.**\n",
    "\n",
    "**There are no null and empty values**\n"
   ]
  },
  {
   "cell_type": "markdown",
   "id": "1bd2d073",
   "metadata": {},
   "source": [
    "**So lets start exploring the data. . . . . . . .**\n",
    "\n",
    "**Data analysis on customer segments**\n"
   ]
  },
  {
   "cell_type": "markdown",
   "id": "05835a42",
   "metadata": {},
   "source": [
    "- **Who spends the most on chips (total sales), describing customers by lifestage and how premium their general purchasing behaviour is**"
   ]
  },
  {
   "cell_type": "code",
   "execution_count": 208,
   "id": "6b8e99a4",
   "metadata": {},
   "outputs": [
    {
     "data": {
      "image/png": "[encoded data removed]",
      "text/plain": [
       "<Figure size 864x504 with 1 Axes>"
      ]
     },
     "metadata": {
      "needs_background": "light"
     },
     "output_type": "display_data"
    }
   ],
   "source": [
    "customer_df.groupby(['Life_stage','Premier_customer'])[['Total_sales']].sum().sort_values(\n",
    "    ascending=True,by='Total_sales').plot.barh(figsize=(12,7))\n",
    "plt.title('Total_sales')\n",
    "plt.show()\n"
   ]
  },
  {
   "cell_type": "markdown",
   "id": "73b79148",
   "metadata": {},
   "source": [
    "### Key Insights:  \n",
    "\n",
    "- 1. Top Spenders: Older Families (Budget) lead with the highest total sales, followed by Young Singles/Couples (Mainstream) and Retirees (Mainstream).\n",
    " \n",
    " \n",
    "- 2. Budget & Mainstream Dominate: Most sales come from Budget and Mainstream customers, while Premium customers contribute less.\n",
    "\n",
    "\n",
    "- 3. Sales Decline: A sharp drop in sales is observed after the top categories, with New Families (Premium) having the lowest sales."
   ]
  },
  {
   "cell_type": "markdown",
   "id": "de39c11b",
   "metadata": {},
   "source": [
    "- **How many customers are in each segment**\n",
    "\n"
   ]
  },
  {
   "cell_type": "code",
   "execution_count": 209,
   "id": "90ae9e9e",
   "metadata": {},
   "outputs": [
    {
     "data": {
      "image/png": "[encoded data removed]",
      "text/plain": [
       "<Figure size 720x432 with 1 Axes>"
      ]
     },
     "metadata": {
      "needs_background": "light"
     },
     "output_type": "display_data"
    }
   ],
   "source": [
    "customer_df.groupby(['Life_stage','Premier_customer'])[['Loyalty_id']].nunique().sort_values(\n",
    "    ascending=True,by='Loyalty_id').plot.barh(figsize=(10,6))\n",
    "plt.show()"
   ]
  },
  {
   "cell_type": "markdown",
   "id": "99935e79",
   "metadata": {},
   "source": [
    "### Key Insights:  \n",
    "1. **Largest Customer Segments:** Young Singles/Couples (Mainstream) have the highest loyalty count (7,917), followed by Retirees (Mainstream) and Older Singles/Couples (Mainstream).  \n",
    "\n",
    "2. **Mainstream Dominates:** Most loyal customers belong to the **Mainstream** category, while **Premium has fewer customers**, indicating lower adoption of high-end products.  \n",
    "\n",
    "3. **Smaller Segments:** New Families and Premium customers have the lowest loyalty counts, suggesting **lower engagement or fewer purchases** in these groups."
   ]
  },
  {
   "cell_type": "markdown",
   "id": "356371fb",
   "metadata": {},
   "source": [
    "- **HOW MANY CHIPS ARE BOUGHT PER CUSTOMER BY SEGMENT**"
   ]
  },
  {
   "cell_type": "code",
   "execution_count": 210,
   "id": "34c7e05f",
   "metadata": {},
   "outputs": [
    {
     "data": {
      "text/html": [
       "<div>\n",
       "<style scoped>\n",
       "    .dataframe tbody tr th:only-of-type {\n",
       "        vertical-align: middle;\n",
       "    }\n",
       "\n",
       "    .dataframe tbody tr th {\n",
       "        vertical-align: top;\n",
       "    }\n",
       "\n",
       "    .dataframe thead th {\n",
       "        text-align: right;\n",
       "    }\n",
       "</style>\n",
       "<table border=\"1\" class=\"dataframe\">\n",
       "  <thead>\n",
       "    <tr style=\"text-align: right;\">\n",
       "      <th></th>\n",
       "      <th></th>\n",
       "      <th></th>\n",
       "      <th>Date</th>\n",
       "    </tr>\n",
       "    <tr>\n",
       "      <th>Loyalty_id</th>\n",
       "      <th>Life_stage</th>\n",
       "      <th>Premier_customer</th>\n",
       "      <th></th>\n",
       "    </tr>\n",
       "  </thead>\n",
       "  <tbody>\n",
       "    <tr>\n",
       "      <th>230078</th>\n",
       "      <th>Older Families</th>\n",
       "      <th>Budget</th>\n",
       "      <td>17</td>\n",
       "    </tr>\n",
       "    <tr>\n",
       "      <th>162039</th>\n",
       "      <th>Older Families</th>\n",
       "      <th>Mainstream</th>\n",
       "      <td>17</td>\n",
       "    </tr>\n",
       "    <tr>\n",
       "      <th>179228</th>\n",
       "      <th>Young Families</th>\n",
       "      <th>Budget</th>\n",
       "      <td>16</td>\n",
       "    </tr>\n",
       "    <tr>\n",
       "      <th>172032</th>\n",
       "      <th>Young Singles/Couples</th>\n",
       "      <th>Mainstream</th>\n",
       "      <td>16</td>\n",
       "    </tr>\n",
       "    <tr>\n",
       "      <th>105026</th>\n",
       "      <th>Young Families</th>\n",
       "      <th>Budget</th>\n",
       "      <td>16</td>\n",
       "    </tr>\n",
       "    <tr>\n",
       "      <th>...</th>\n",
       "      <th>...</th>\n",
       "      <th>...</th>\n",
       "      <td>...</td>\n",
       "    </tr>\n",
       "    <tr>\n",
       "      <th>142236</th>\n",
       "      <th>Midage Singles/Couples</th>\n",
       "      <th>Budget</th>\n",
       "      <td>1</td>\n",
       "    </tr>\n",
       "    <tr>\n",
       "      <th>142233</th>\n",
       "      <th>Young Families</th>\n",
       "      <th>Budget</th>\n",
       "      <td>1</td>\n",
       "    </tr>\n",
       "    <tr>\n",
       "      <th>142230</th>\n",
       "      <th>Retirees</th>\n",
       "      <th>Premium</th>\n",
       "      <td>1</td>\n",
       "    </tr>\n",
       "    <tr>\n",
       "      <th>142219</th>\n",
       "      <th>Young Families</th>\n",
       "      <th>Mainstream</th>\n",
       "      <td>1</td>\n",
       "    </tr>\n",
       "    <tr>\n",
       "      <th>2373711</th>\n",
       "      <th>Young Singles/Couples</th>\n",
       "      <th>Mainstream</th>\n",
       "      <td>1</td>\n",
       "    </tr>\n",
       "  </tbody>\n",
       "</table>\n",
       "<p>71287 rows × 1 columns</p>\n",
       "</div>"
      ],
      "text/plain": [
       "                                                    Date\n",
       "Loyalty_id Life_stage             Premier_customer      \n",
       "230078     Older Families         Budget              17\n",
       "162039     Older Families         Mainstream          17\n",
       "179228     Young Families         Budget              16\n",
       "172032     Young Singles/Couples  Mainstream          16\n",
       "105026     Young Families         Budget              16\n",
       "...                                                  ...\n",
       "142236     Midage Singles/Couples Budget               1\n",
       "142233     Young Families         Budget               1\n",
       "142230     Retirees               Premium              1\n",
       "142219     Young Families         Mainstream           1\n",
       "2373711    Young Singles/Couples  Mainstream           1\n",
       "\n",
       "[71287 rows x 1 columns]"
      ]
     },
     "execution_count": 210,
     "metadata": {},
     "output_type": "execute_result"
    }
   ],
   "source": [
    "customer_per_seg = customer_df.groupby(['Loyalty_id','Life_stage','Premier_customer'])[['Date']].count().sort_values(\n",
    "    ascending=False,by='Date')\n",
    "customer_per_seg"
   ]
  },
  {
   "cell_type": "markdown",
   "id": "e515f580",
   "metadata": {},
   "source": [
    "customer_per_seg.plot.bar()"
   ]
  },
  {
   "cell_type": "markdown",
   "id": "60874e31",
   "metadata": {},
   "source": [
    "**What's the average chip price by customer segment**"
   ]
  },
  {
   "cell_type": "code",
   "execution_count": 211,
   "id": "bff15649",
   "metadata": {},
   "outputs": [
    {
     "data": {
      "text/html": [
       "<div>\n",
       "<style scoped>\n",
       "    .dataframe tbody tr th:only-of-type {\n",
       "        vertical-align: middle;\n",
       "    }\n",
       "\n",
       "    .dataframe tbody tr th {\n",
       "        vertical-align: top;\n",
       "    }\n",
       "\n",
       "    .dataframe thead th {\n",
       "        text-align: right;\n",
       "    }\n",
       "</style>\n",
       "<table border=\"1\" class=\"dataframe\">\n",
       "  <thead>\n",
       "    <tr style=\"text-align: right;\">\n",
       "      <th></th>\n",
       "      <th></th>\n",
       "      <th>Total_sales</th>\n",
       "    </tr>\n",
       "    <tr>\n",
       "      <th>Life_stage</th>\n",
       "      <th>Premier_customer</th>\n",
       "      <th></th>\n",
       "    </tr>\n",
       "  </thead>\n",
       "  <tbody>\n",
       "    <tr>\n",
       "      <th>Midage Singles/Couples</th>\n",
       "      <th>Mainstream</th>\n",
       "      <td>7.64</td>\n",
       "    </tr>\n",
       "    <tr>\n",
       "      <th>Young Singles/Couples</th>\n",
       "      <th>Mainstream</th>\n",
       "      <td>7.55</td>\n",
       "    </tr>\n",
       "    <tr>\n",
       "      <th>Retirees</th>\n",
       "      <th>Premium</th>\n",
       "      <td>7.46</td>\n",
       "    </tr>\n",
       "    <tr>\n",
       "      <th>Older Singles/Couples</th>\n",
       "      <th>Premium</th>\n",
       "      <td>7.46</td>\n",
       "    </tr>\n",
       "    <tr>\n",
       "      <th>Retirees</th>\n",
       "      <th>Budget</th>\n",
       "      <td>7.45</td>\n",
       "    </tr>\n",
       "    <tr>\n",
       "      <th>Older Singles/Couples</th>\n",
       "      <th>Budget</th>\n",
       "      <td>7.44</td>\n",
       "    </tr>\n",
       "    <tr>\n",
       "      <th>New Families</th>\n",
       "      <th>Mainstream</th>\n",
       "      <td>7.31</td>\n",
       "    </tr>\n",
       "    <tr>\n",
       "      <th>Older Singles/Couples</th>\n",
       "      <th>Mainstream</th>\n",
       "      <td>7.31</td>\n",
       "    </tr>\n",
       "    <tr>\n",
       "      <th>Young Families</th>\n",
       "      <th>Budget</th>\n",
       "      <td>7.30</td>\n",
       "    </tr>\n",
       "    <tr>\n",
       "      <th>New Families</th>\n",
       "      <th>Budget</th>\n",
       "      <td>7.30</td>\n",
       "    </tr>\n",
       "    <tr>\n",
       "      <th>Older Families</th>\n",
       "      <th>Budget</th>\n",
       "      <td>7.29</td>\n",
       "    </tr>\n",
       "    <tr>\n",
       "      <th>Young Families</th>\n",
       "      <th>Premium</th>\n",
       "      <td>7.29</td>\n",
       "    </tr>\n",
       "    <tr>\n",
       "      <th>Older Families</th>\n",
       "      <th>Mainstream</th>\n",
       "      <td>7.28</td>\n",
       "    </tr>\n",
       "    <tr>\n",
       "      <th>Retirees</th>\n",
       "      <th>Mainstream</th>\n",
       "      <td>7.27</td>\n",
       "    </tr>\n",
       "    <tr>\n",
       "      <th>Older Families</th>\n",
       "      <th>Premium</th>\n",
       "      <td>7.23</td>\n",
       "    </tr>\n",
       "    <tr>\n",
       "      <th>New Families</th>\n",
       "      <th>Premium</th>\n",
       "      <td>7.23</td>\n",
       "    </tr>\n",
       "    <tr>\n",
       "      <th>Young Families</th>\n",
       "      <th>Mainstream</th>\n",
       "      <td>7.23</td>\n",
       "    </tr>\n",
       "    <tr>\n",
       "      <th rowspan=\"2\" valign=\"top\">Midage Singles/Couples</th>\n",
       "      <th>Premium</th>\n",
       "      <td>7.15</td>\n",
       "    </tr>\n",
       "    <tr>\n",
       "      <th>Budget</th>\n",
       "      <td>7.11</td>\n",
       "    </tr>\n",
       "    <tr>\n",
       "      <th rowspan=\"2\" valign=\"top\">Young Singles/Couples</th>\n",
       "      <th>Premium</th>\n",
       "      <td>6.67</td>\n",
       "    </tr>\n",
       "    <tr>\n",
       "      <th>Budget</th>\n",
       "      <td>6.66</td>\n",
       "    </tr>\n",
       "  </tbody>\n",
       "</table>\n",
       "</div>"
      ],
      "text/plain": [
       "                                         Total_sales\n",
       "Life_stage             Premier_customer             \n",
       "Midage Singles/Couples Mainstream               7.64\n",
       "Young Singles/Couples  Mainstream               7.55\n",
       "Retirees               Premium                  7.46\n",
       "Older Singles/Couples  Premium                  7.46\n",
       "Retirees               Budget                   7.45\n",
       "Older Singles/Couples  Budget                   7.44\n",
       "New Families           Mainstream               7.31\n",
       "Older Singles/Couples  Mainstream               7.31\n",
       "Young Families         Budget                   7.30\n",
       "New Families           Budget                   7.30\n",
       "Older Families         Budget                   7.29\n",
       "Young Families         Premium                  7.29\n",
       "Older Families         Mainstream               7.28\n",
       "Retirees               Mainstream               7.27\n",
       "Older Families         Premium                  7.23\n",
       "New Families           Premium                  7.23\n",
       "Young Families         Mainstream               7.23\n",
       "Midage Singles/Couples Premium                  7.15\n",
       "                       Budget                   7.11\n",
       "Young Singles/Couples  Premium                  6.67\n",
       "                       Budget                   6.66"
      ]
     },
     "execution_count": 211,
     "metadata": {},
     "output_type": "execute_result"
    }
   ],
   "source": [
    "customer_df.groupby(['Life_stage','Premier_customer'])[['Total_sales']].mean().sort_values(\n",
    "    ascending=False,by='Total_sales').round(2)"
   ]
  },
  {
   "cell_type": "code",
   "execution_count": 212,
   "id": "56dafdf8",
   "metadata": {},
   "outputs": [
    {
     "data": {
      "image/png": "[encoded data removed]",
      "text/plain": [
       "<Figure size 576x504 with 1 Axes>"
      ]
     },
     "metadata": {
      "needs_background": "light"
     },
     "output_type": "display_data"
    }
   ],
   "source": [
    "customer_df.groupby(['Life_stage','Premier_customer'])[['Total_sales']].mean().sort_values(\n",
    "    ascending=True,by='Total_sales').round(2).plot.barh(figsize=(8,7))\n",
    "\n",
    "plt.title(\"Average Total Sales by Life Stage & Customer Type\",fontweight='bold')\n",
    "# Bold X and Y Labels\n",
    "plt.xlabel(\"Total Sales\", fontweight='bold', fontsize=12)\n",
    "\n",
    "plt.show()"
   ]
  },
  {
   "cell_type": "markdown",
   "id": "1aa4d181",
   "metadata": {},
   "source": [
    "### Key Insights:  \n",
    "1. **Similar Average Sales:** Total sales across different life stages and customer segments are very close, mostly ranging between **7.1 and 7.6**.  \n",
    "\n",
    "\n",
    "2. **Top Performers:** Midage Singles/Couples (Mainstream) have the highest total sales per customer (7.64), followed closely by Young Singles/Couples (Mainstream) and Retirees (Premium).  \n",
    "\n",
    "\n",
    "3. **Premium vs. Budget:** **Premium customers do not significantly outperform Budget/Mainstream customers**, suggesting **pricing strategy and customer preferences drive similar spending patterns** across segments."
   ]
  },
  {
   "cell_type": "markdown",
   "id": "2e8bea83",
   "metadata": {},
   "source": [
    "- **Average number of units per customer**"
   ]
  },
  {
   "cell_type": "code",
   "execution_count": 213,
   "id": "fc0941b1",
   "metadata": {},
   "outputs": [
    {
     "data": {
      "text/html": [
       "<div>\n",
       "<style scoped>\n",
       "    .dataframe tbody tr th:only-of-type {\n",
       "        vertical-align: middle;\n",
       "    }\n",
       "\n",
       "    .dataframe tbody tr th {\n",
       "        vertical-align: top;\n",
       "    }\n",
       "\n",
       "    .dataframe thead th {\n",
       "        text-align: right;\n",
       "    }\n",
       "</style>\n",
       "<table border=\"1\" class=\"dataframe\">\n",
       "  <thead>\n",
       "    <tr style=\"text-align: right;\">\n",
       "      <th></th>\n",
       "      <th></th>\n",
       "      <th>0</th>\n",
       "    </tr>\n",
       "    <tr>\n",
       "      <th>Life_stage</th>\n",
       "      <th>Premier_customer</th>\n",
       "      <th></th>\n",
       "    </tr>\n",
       "  </thead>\n",
       "  <tbody>\n",
       "    <tr>\n",
       "      <th rowspan=\"3\" valign=\"top\">Older Families</th>\n",
       "      <th>Mainstream</th>\n",
       "      <td>9.255380</td>\n",
       "    </tr>\n",
       "    <tr>\n",
       "      <th>Budget</th>\n",
       "      <td>9.076773</td>\n",
       "    </tr>\n",
       "    <tr>\n",
       "      <th>Premium</th>\n",
       "      <td>9.071717</td>\n",
       "    </tr>\n",
       "    <tr>\n",
       "      <th rowspan=\"3\" valign=\"top\">Young Families</th>\n",
       "      <th>Budget</th>\n",
       "      <td>8.722995</td>\n",
       "    </tr>\n",
       "    <tr>\n",
       "      <th>Premium</th>\n",
       "      <td>8.716013</td>\n",
       "    </tr>\n",
       "    <tr>\n",
       "      <th>Mainstream</th>\n",
       "      <td>8.638361</td>\n",
       "    </tr>\n",
       "    <tr>\n",
       "      <th rowspan=\"3\" valign=\"top\">Older Singles/Couples</th>\n",
       "      <th>Budget</th>\n",
       "      <td>6.781398</td>\n",
       "    </tr>\n",
       "    <tr>\n",
       "      <th>Premium</th>\n",
       "      <td>6.769543</td>\n",
       "    </tr>\n",
       "    <tr>\n",
       "      <th>Mainstream</th>\n",
       "      <td>6.712021</td>\n",
       "    </tr>\n",
       "    <tr>\n",
       "      <th>Midage Singles/Couples</th>\n",
       "      <th>Mainstream</th>\n",
       "      <td>6.432080</td>\n",
       "    </tr>\n",
       "    <tr>\n",
       "      <th rowspan=\"2\" valign=\"top\">Retirees</th>\n",
       "      <th>Budget</th>\n",
       "      <td>6.141847</td>\n",
       "    </tr>\n",
       "    <tr>\n",
       "      <th>Premium</th>\n",
       "      <td>6.103358</td>\n",
       "    </tr>\n",
       "    <tr>\n",
       "      <th rowspan=\"2\" valign=\"top\">Midage Singles/Couples</th>\n",
       "      <th>Premium</th>\n",
       "      <td>6.078514</td>\n",
       "    </tr>\n",
       "    <tr>\n",
       "      <th>Budget</th>\n",
       "      <td>6.026459</td>\n",
       "    </tr>\n",
       "    <tr>\n",
       "      <th>Retirees</th>\n",
       "      <th>Mainstream</th>\n",
       "      <td>5.925920</td>\n",
       "    </tr>\n",
       "    <tr>\n",
       "      <th rowspan=\"3\" valign=\"top\">New Families</th>\n",
       "      <th>Mainstream</th>\n",
       "      <td>4.891566</td>\n",
       "    </tr>\n",
       "    <tr>\n",
       "      <th>Budget</th>\n",
       "      <td>4.821527</td>\n",
       "    </tr>\n",
       "    <tr>\n",
       "      <th>Premium</th>\n",
       "      <td>4.815652</td>\n",
       "    </tr>\n",
       "    <tr>\n",
       "      <th rowspan=\"3\" valign=\"top\">Young Singles/Couples</th>\n",
       "      <th>Mainstream</th>\n",
       "      <td>4.575597</td>\n",
       "    </tr>\n",
       "    <tr>\n",
       "      <th>Premium</th>\n",
       "      <td>4.264113</td>\n",
       "    </tr>\n",
       "    <tr>\n",
       "      <th>Budget</th>\n",
       "      <td>4.250069</td>\n",
       "    </tr>\n",
       "  </tbody>\n",
       "</table>\n",
       "</div>"
      ],
      "text/plain": [
       "                                                0\n",
       "Life_stage             Premier_customer          \n",
       "Older Families         Mainstream        9.255380\n",
       "                       Budget            9.076773\n",
       "                       Premium           9.071717\n",
       "Young Families         Budget            8.722995\n",
       "                       Premium           8.716013\n",
       "                       Mainstream        8.638361\n",
       "Older Singles/Couples  Budget            6.781398\n",
       "                       Premium           6.769543\n",
       "                       Mainstream        6.712021\n",
       "Midage Singles/Couples Mainstream        6.432080\n",
       "Retirees               Budget            6.141847\n",
       "                       Premium           6.103358\n",
       "Midage Singles/Couples Premium           6.078514\n",
       "                       Budget            6.026459\n",
       "Retirees               Mainstream        5.925920\n",
       "New Families           Mainstream        4.891566\n",
       "                       Budget            4.821527\n",
       "                       Premium           4.815652\n",
       "Young Singles/Couples  Mainstream        4.575597\n",
       "                       Premium           4.264113\n",
       "                       Budget            4.250069"
      ]
     },
     "execution_count": 213,
     "metadata": {},
     "output_type": "execute_result"
    }
   ],
   "source": [
    "avg_chips_per_customer = (customer_df.groupby(['Life_stage',\"Premier_customer\"])[\"Quantity\"].sum() / customer_df.groupby(\n",
    "    ['Life_stage','Premier_customer'])[\"Loyalty_id\"].nunique()).sort_values(ascending=False).to_frame()\n",
    "avg_chips_per_customer"
   ]
  },
  {
   "cell_type": "code",
   "execution_count": 214,
   "id": "11b9b8a4",
   "metadata": {},
   "outputs": [
    {
     "data": {
      "image/png": "[encoded data removed]",
      "text/plain": [
       "<Figure size 864x360 with 1 Axes>"
      ]
     },
     "metadata": {
      "needs_background": "light"
     },
     "output_type": "display_data"
    }
   ],
   "source": [
    "avg_chips_per_customer.unstack().plot.barh(figsize=(12,5))\n",
    "plt.legend(loc='upper right',bbox_to_anchor=(1.2, 0.5))\n",
    "plt.title(\"Average number of units per customer\")\n",
    "plt.tight_layout()"
   ]
  },
  {
   "cell_type": "markdown",
   "id": "19956970",
   "metadata": {},
   "source": [
    "### Key Insights:  \n",
    "1. **Older Families Spend the Most:** Older Families across **all customer segments (Mainstream, Budget, Premium)** have the highest values, indicating they are the most valuable group.  \n",
    "\n",
    "\n",
    "2. **Young Families Rank Second:** Their spending is slightly lower than Older Families but still higher than other life stages.  \n",
    "\n",
    "\n",
    "3. **Young Singles/Couples Spend the Least:** Their values are the lowest, suggesting **lower purchasing power or engagement compared to older demographics**."
   ]
  },
  {
   "cell_type": "markdown",
   "id": "11c42476",
   "metadata": {},
   "source": [
    "- **AVERAGE CHIPS PRICE PER TRANSACTION BY SEGMENTS**"
   ]
  },
  {
   "cell_type": "code",
   "execution_count": 215,
   "id": "4cf3b5c3",
   "metadata": {},
   "outputs": [
    {
     "data": {
      "text/html": [
       "<div>\n",
       "<style scoped>\n",
       "    .dataframe tbody tr th:only-of-type {\n",
       "        vertical-align: middle;\n",
       "    }\n",
       "\n",
       "    .dataframe tbody tr th {\n",
       "        vertical-align: top;\n",
       "    }\n",
       "\n",
       "    .dataframe thead th {\n",
       "        text-align: right;\n",
       "    }\n",
       "</style>\n",
       "<table border=\"1\" class=\"dataframe\">\n",
       "  <thead>\n",
       "    <tr style=\"text-align: right;\">\n",
       "      <th></th>\n",
       "      <th></th>\n",
       "      <th>avg_unit_per_price</th>\n",
       "    </tr>\n",
       "    <tr>\n",
       "      <th>Life_stage</th>\n",
       "      <th>Premier_customer</th>\n",
       "      <th></th>\n",
       "    </tr>\n",
       "  </thead>\n",
       "  <tbody>\n",
       "    <tr>\n",
       "      <th>Young Singles/Couples</th>\n",
       "      <th>Mainstream</th>\n",
       "      <td>4.07</td>\n",
       "    </tr>\n",
       "    <tr>\n",
       "      <th>Midage Singles/Couples</th>\n",
       "      <th>Mainstream</th>\n",
       "      <td>3.99</td>\n",
       "    </tr>\n",
       "    <tr>\n",
       "      <th>New Families</th>\n",
       "      <th>Mainstream</th>\n",
       "      <td>3.94</td>\n",
       "    </tr>\n",
       "    <tr>\n",
       "      <th>Retirees</th>\n",
       "      <th>Budget</th>\n",
       "      <td>3.93</td>\n",
       "    </tr>\n",
       "    <tr>\n",
       "      <th>New Families</th>\n",
       "      <th>Budget</th>\n",
       "      <td>3.93</td>\n",
       "    </tr>\n",
       "    <tr>\n",
       "      <th>Retirees</th>\n",
       "      <th>Premium</th>\n",
       "      <td>3.92</td>\n",
       "    </tr>\n",
       "    <tr>\n",
       "      <th rowspan=\"2\" valign=\"top\">Older Singles/Couples</th>\n",
       "      <th>Premium</th>\n",
       "      <td>3.90</td>\n",
       "    </tr>\n",
       "    <tr>\n",
       "      <th>Budget</th>\n",
       "      <td>3.89</td>\n",
       "    </tr>\n",
       "    <tr>\n",
       "      <th>New Families</th>\n",
       "      <th>Premium</th>\n",
       "      <td>3.89</td>\n",
       "    </tr>\n",
       "    <tr>\n",
       "      <th>Retirees</th>\n",
       "      <th>Mainstream</th>\n",
       "      <td>3.85</td>\n",
       "    </tr>\n",
       "    <tr>\n",
       "      <th>Older Singles/Couples</th>\n",
       "      <th>Mainstream</th>\n",
       "      <td>3.82</td>\n",
       "    </tr>\n",
       "    <tr>\n",
       "      <th>Midage Singles/Couples</th>\n",
       "      <th>Premium</th>\n",
       "      <td>3.78</td>\n",
       "    </tr>\n",
       "    <tr>\n",
       "      <th rowspan=\"2\" valign=\"top\">Young Families</th>\n",
       "      <th>Budget</th>\n",
       "      <td>3.76</td>\n",
       "    </tr>\n",
       "    <tr>\n",
       "      <th>Premium</th>\n",
       "      <td>3.76</td>\n",
       "    </tr>\n",
       "    <tr>\n",
       "      <th>Midage Singles/Couples</th>\n",
       "      <th>Budget</th>\n",
       "      <td>3.75</td>\n",
       "    </tr>\n",
       "    <tr>\n",
       "      <th rowspan=\"2\" valign=\"top\">Older Families</th>\n",
       "      <th>Budget</th>\n",
       "      <td>3.75</td>\n",
       "    </tr>\n",
       "    <tr>\n",
       "      <th>Mainstream</th>\n",
       "      <td>3.74</td>\n",
       "    </tr>\n",
       "    <tr>\n",
       "      <th>Young Families</th>\n",
       "      <th>Mainstream</th>\n",
       "      <td>3.72</td>\n",
       "    </tr>\n",
       "    <tr>\n",
       "      <th>Older Families</th>\n",
       "      <th>Premium</th>\n",
       "      <td>3.72</td>\n",
       "    </tr>\n",
       "    <tr>\n",
       "      <th rowspan=\"2\" valign=\"top\">Young Singles/Couples</th>\n",
       "      <th>Premium</th>\n",
       "      <td>3.69</td>\n",
       "    </tr>\n",
       "    <tr>\n",
       "      <th>Budget</th>\n",
       "      <td>3.69</td>\n",
       "    </tr>\n",
       "  </tbody>\n",
       "</table>\n",
       "</div>"
      ],
      "text/plain": [
       "                                         avg_unit_per_price\n",
       "Life_stage             Premier_customer                    \n",
       "Young Singles/Couples  Mainstream                      4.07\n",
       "Midage Singles/Couples Mainstream                      3.99\n",
       "New Families           Mainstream                      3.94\n",
       "Retirees               Budget                          3.93\n",
       "New Families           Budget                          3.93\n",
       "Retirees               Premium                         3.92\n",
       "Older Singles/Couples  Premium                         3.90\n",
       "                       Budget                          3.89\n",
       "New Families           Premium                         3.89\n",
       "Retirees               Mainstream                      3.85\n",
       "Older Singles/Couples  Mainstream                      3.82\n",
       "Midage Singles/Couples Premium                         3.78\n",
       "Young Families         Budget                          3.76\n",
       "                       Premium                         3.76\n",
       "Midage Singles/Couples Budget                          3.75\n",
       "Older Families         Budget                          3.75\n",
       "                       Mainstream                      3.74\n",
       "Young Families         Mainstream                      3.72\n",
       "Older Families         Premium                         3.72\n",
       "Young Singles/Couples  Premium                         3.69\n",
       "                       Budget                          3.69"
      ]
     },
     "execution_count": 215,
     "metadata": {},
     "output_type": "execute_result"
    }
   ],
   "source": [
    "grouped = customer_df.groupby(['Life_stage','Premier_customer'])[['Total_sales','Quantity']].sum()\n",
    "grouped[\"avg_unit_per_price\"] = grouped['Total_sales'] / grouped['Quantity']\n",
    "grouped_avg_price = grouped[\"avg_unit_per_price\"].sort_values(ascending=False).round(2).to_frame()\n",
    "grouped_avg_price"
   ]
  },
  {
   "cell_type": "code",
   "execution_count": 216,
   "id": "4afefe0a",
   "metadata": {},
   "outputs": [
    {
     "data": {
      "image/png": "[encoded data removed]",
      "text/plain": [
       "<Figure size 720x432 with 1 Axes>"
      ]
     },
     "metadata": {
      "needs_background": "light"
     },
     "output_type": "display_data"
    }
   ],
   "source": [
    "grouped_avg_price.unstack().plot.bar(figsize=(10,6),colormap='Pastel1')\n",
    "\n",
    "plt.legend(loc='upper right',bbox_to_anchor=(1.25, 0.6))\n",
    "plt.title(\"AVERAGE CHIPS PRICE PER TRANSACTION BY SEGMENTS\")\n",
    "plt.tight_layout()"
   ]
  },
  {
   "cell_type": "markdown",
   "id": "fff8d0ba",
   "metadata": {},
   "source": [
    "### Key Insights:  \n",
    "1. **Young Singles/Couples (Mainstream) Pay the Most:** They have the highest average unit price (4.07), indicating a **preference for higher-priced products**.  \n",
    "\n",
    "\n",
    "2. **New Families and Midage Singles/Couples Also Spend More:** Their unit prices remain close to 4.00, suggesting **a willingness to spend on quality or premium items**.  \n",
    "\n",
    "\n",
    "3. **Older Families and Young Families Pay Less:** Their average unit price is lower (~3.69–3.75), implying **a preference for budget-friendly or bulk purchases**."
   ]
  },
  {
   "cell_type": "markdown",
   "id": "7d87443b",
   "metadata": {},
   "source": [
    "## T-Test stastics"
   ]
  },
  {
   "cell_type": "code",
   "execution_count": 217,
   "id": "b452894c",
   "metadata": {},
   "outputs": [],
   "source": [
    "#\"Mainstream\" vs. \"Budget/Premium\""
   ]
  },
  {
   "cell_type": "code",
   "execution_count": 218,
   "id": "0d26e2fc",
   "metadata": {},
   "outputs": [],
   "source": [
    "# Filter using query() for Young Singles/Couples and Midage Singles/Couples\n",
    "a = customer_df.query('Life_stage in  [\"Young Singles/Couples\",\"Midage Singles/Couples\"]')\n",
    "\n",
    "# Separating the data for Mainstream customers\n",
    "mainstream = a.query('Premier_customer == \"Mainstream\"')['Total_sales']\n",
    "\n",
    "# Separating the data for budget_premium customers\n",
    "budget_premium = a.query('Premier_customer in [\"Budget\", \"Premium\"]')[\"Total_sales\"]\n",
    "\n"
   ]
  },
  {
   "cell_type": "code",
   "execution_count": 219,
   "id": "2fc172e7",
   "metadata": {},
   "outputs": [
    {
     "name": "stdout",
     "output_type": "stream",
     "text": [
      "t-statistic: 33.07\n",
      "p-value: 1.834645908180742e-237\n",
      "There is a significant difference between Mainstream and Budget/Premium groups.\n"
     ]
    }
   ],
   "source": [
    "from scipy.stats import ttest_ind\n",
    "\n",
    "## Perform the independent t-test\n",
    "stat, pval = ttest_ind(mainstream, budget_premium, equal_var=False)\n",
    "\n",
    "print(f\"t-statistic: {stat.round(2)}\")\n",
    "print(f\"p-value: {pval}\")\n",
    "\n",
    "# Interpret the results\n",
    "if pval < 0.05:\n",
    "    print(\"There is a significant difference between Mainstream and Budget/Premium groups.\")\n",
    "else:\n",
    "    print(\"There is no significant difference between Mainstream and Budget/Premium groups.\")"
   ]
  },
  {
   "cell_type": "code",
   "execution_count": null,
   "id": "620d7dab",
   "metadata": {
    "scrolled": false
   },
   "outputs": [],
   "source": []
  },
  {
   "cell_type": "markdown",
   "id": "0539ea02",
   "metadata": {},
   "source": [
    "### Identifying Brand Preferences Among Mainstream Young Singles/Couples for Targeted Marketing"
   ]
  },
  {
   "cell_type": "code",
   "execution_count": 220,
   "id": "8040cbcd",
   "metadata": {},
   "outputs": [
    {
     "data": {
      "image/png": "[encoded data removed]",
      "text/plain": [
       "<Figure size 720x504 with 1 Axes>"
      ]
     },
     "metadata": {
      "needs_background": "light"
     },
     "output_type": "display_data"
    }
   ],
   "source": [
    "customer_df[(customer_df['Life_stage'] == 'Young Singles/Couples') & (customer_df['Premier_customer'] == 'Mainstream')]\n",
    "brand_counts = customer_df.groupby('Brand_name').size().sort_values(ascending=True)\n",
    "\n",
    "plt.figure(figsize=(10,7))\n",
    "plt.barh(brand_counts.index,brand_counts.values)\n",
    "plt.xlabel(\"Total Quantity Purchased\")\n",
    "plt.ylabel(\"Brand Name\")\n",
    "plt.title(\"Brand Preferences Among Mainstream Young Singles/Couples \")\n",
    "plt.show()"
   ]
  },
  {
   "cell_type": "markdown",
   "id": "ee77622c",
   "metadata": {},
   "source": [
    "## Key insight\n",
    "\n",
    "**Kettle is the most preferred brand, followed by Smiths, Doritos, and Pringles, indicating strong consumer loyalty toward these brands. Mid-tier brands like RRD, Infuzions, and Thins also have a notable presence, while lower-ranked brands show niche or limited appeal. This suggests a concentrated market with a few dominant players driving most sales.**"
   ]
  },
  {
   "cell_type": "code",
   "execution_count": 221,
   "id": "2fc2d779",
   "metadata": {},
   "outputs": [
    {
     "data": {
      "image/png": "[encoded data removed]",
      "text/plain": [
       "<Figure size 504x216 with 1 Axes>"
      ]
     },
     "metadata": {
      "needs_background": "light"
     },
     "output_type": "display_data"
    }
   ],
   "source": [
    "customer_df[(customer_df['Life_stage'] == 'Young Singles/Couples') & (customer_df['Premier_customer'] == 'Mainstream')]\n",
    "Weight_count = customer_df.groupby('Weight').size().sort_values(ascending=False).head(3)\n",
    "\n",
    "wrd_txt = [str(Weight) for Weight in Weight_count.index]\n",
    "\n",
    "plt.figure(figsize=(7,3))\n",
    "plt.bar(wrd_txt,Weight_count)\n",
    "plt.xlabel(\"Total Quantity Purchased\")\n",
    "plt.ylabel(\"Brand Name\")\n",
    "plt.title(\"Brand Preferences Among Mainstream Young Singles/Couples \")\n",
    "plt.show()"
   ]
  },
  {
   "cell_type": "markdown",
   "id": "8e7d6031",
   "metadata": {},
   "source": [
    "### Key insights\n",
    "\n",
    "- **175g packs** are the most frequently purchased, indicating a strong customer preference for larger pack sizes.  \n",
    "- **150g packs** follow, showing a notable demand but lower than the top-selling size.  \n",
    "\n",
    "**This pattern suggests that customers may prioritize value-for-money or bulk purchases, influencing product stocking and promotional strategies.**"
   ]
  },
  {
   "cell_type": "markdown",
   "id": "924a772e",
   "metadata": {},
   "source": [
    "# Apirori algorthim\n",
    "\n",
    "### Brand"
   ]
  },
  {
   "cell_type": "code",
   "execution_count": 222,
   "id": "a4649fb0",
   "metadata": {},
   "outputs": [
    {
     "data": {
      "text/plain": [
       "array(['Premium', 'Budget', 'Mainstream'], dtype=object)"
      ]
     },
     "execution_count": 222,
     "metadata": {},
     "output_type": "execute_result"
    }
   ],
   "source": [
    "customer_df.Premier_customer.unique()"
   ]
  },
  {
   "cell_type": "code",
   "execution_count": 223,
   "id": "1939bafb",
   "metadata": {},
   "outputs": [
    {
     "data": {
      "text/html": [
       "<div>\n",
       "<style scoped>\n",
       "    .dataframe tbody tr th:only-of-type {\n",
       "        vertical-align: middle;\n",
       "    }\n",
       "\n",
       "    .dataframe tbody tr th {\n",
       "        vertical-align: top;\n",
       "    }\n",
       "\n",
       "    .dataframe thead th {\n",
       "        text-align: right;\n",
       "    }\n",
       "</style>\n",
       "<table border=\"1\" class=\"dataframe\">\n",
       "  <thead>\n",
       "    <tr style=\"text-align: right;\">\n",
       "      <th></th>\n",
       "      <th>Date</th>\n",
       "      <th>Store_id</th>\n",
       "      <th>Loyalty_id</th>\n",
       "      <th>Tax_id</th>\n",
       "      <th>Product_id</th>\n",
       "      <th>Product_name</th>\n",
       "      <th>Quantity</th>\n",
       "      <th>Total_sales</th>\n",
       "      <th>Weight</th>\n",
       "      <th>Brand_name</th>\n",
       "      <th>Life_stage</th>\n",
       "      <th>Premier_customer</th>\n",
       "    </tr>\n",
       "  </thead>\n",
       "  <tbody>\n",
       "    <tr>\n",
       "      <th>221345</th>\n",
       "      <td>2018-08-16</td>\n",
       "      <td>1</td>\n",
       "      <td>1020</td>\n",
       "      <td>26</td>\n",
       "      <td>19</td>\n",
       "      <td>Smiths Crinkle Cut Snag Sauce</td>\n",
       "      <td>1</td>\n",
       "      <td>2.6</td>\n",
       "      <td>150</td>\n",
       "      <td>Smiths</td>\n",
       "      <td>Young Singles/Couples</td>\n",
       "      <td>Mainstream</td>\n",
       "    </tr>\n",
       "    <tr>\n",
       "      <th>221346</th>\n",
       "      <td>2018-08-17</td>\n",
       "      <td>1</td>\n",
       "      <td>1163</td>\n",
       "      <td>188</td>\n",
       "      <td>46</td>\n",
       "      <td>Kettle Original</td>\n",
       "      <td>1</td>\n",
       "      <td>5.4</td>\n",
       "      <td>175</td>\n",
       "      <td>Kettle</td>\n",
       "      <td>Young Singles/Couples</td>\n",
       "      <td>Mainstream</td>\n",
       "    </tr>\n",
       "    <tr>\n",
       "      <th>221347</th>\n",
       "      <td>2018-08-14</td>\n",
       "      <td>1</td>\n",
       "      <td>1291</td>\n",
       "      <td>333</td>\n",
       "      <td>27</td>\n",
       "      <td>WW Supreme Cheese Corn Chips</td>\n",
       "      <td>1</td>\n",
       "      <td>1.9</td>\n",
       "      <td>200</td>\n",
       "      <td>Woolworths</td>\n",
       "      <td>Young Singles/Couples</td>\n",
       "      <td>Mainstream</td>\n",
       "    </tr>\n",
       "    <tr>\n",
       "      <th>221348</th>\n",
       "      <td>2019-05-15</td>\n",
       "      <td>3</td>\n",
       "      <td>3031</td>\n",
       "      <td>1227</td>\n",
       "      <td>14</td>\n",
       "      <td>Smiths Crnkle Chip Originall Big Bag</td>\n",
       "      <td>1</td>\n",
       "      <td>5.9</td>\n",
       "      <td>380</td>\n",
       "      <td>Smiths</td>\n",
       "      <td>Young Singles/Couples</td>\n",
       "      <td>Mainstream</td>\n",
       "    </tr>\n",
       "    <tr>\n",
       "      <th>221349</th>\n",
       "      <td>2019-05-18</td>\n",
       "      <td>3</td>\n",
       "      <td>3118</td>\n",
       "      <td>1574</td>\n",
       "      <td>62</td>\n",
       "      <td>Pringles Mystery Flavour</td>\n",
       "      <td>1</td>\n",
       "      <td>3.7</td>\n",
       "      <td>134</td>\n",
       "      <td>Pringles</td>\n",
       "      <td>Young Singles/Couples</td>\n",
       "      <td>Mainstream</td>\n",
       "    </tr>\n",
       "  </tbody>\n",
       "</table>\n",
       "</div>"
      ],
      "text/plain": [
       "             Date  Store_id  Loyalty_id  Tax_id  Product_id  \\\n",
       "221345 2018-08-16         1        1020      26          19   \n",
       "221346 2018-08-17         1        1163     188          46   \n",
       "221347 2018-08-14         1        1291     333          27   \n",
       "221348 2019-05-15         3        3031    1227          14   \n",
       "221349 2019-05-18         3        3118    1574          62   \n",
       "\n",
       "                                Product_name  Quantity  Total_sales  Weight  \\\n",
       "221345         Smiths Crinkle Cut Snag Sauce         1          2.6     150   \n",
       "221346                       Kettle Original         1          5.4     175   \n",
       "221347          WW Supreme Cheese Corn Chips         1          1.9     200   \n",
       "221348  Smiths Crnkle Chip Originall Big Bag         1          5.9     380   \n",
       "221349              Pringles Mystery Flavour         1          3.7     134   \n",
       "\n",
       "        Brand_name             Life_stage Premier_customer  \n",
       "221345      Smiths  Young Singles/Couples       Mainstream  \n",
       "221346      Kettle  Young Singles/Couples       Mainstream  \n",
       "221347  Woolworths  Young Singles/Couples       Mainstream  \n",
       "221348      Smiths  Young Singles/Couples       Mainstream  \n",
       "221349    Pringles  Young Singles/Couples       Mainstream  "
      ]
     },
     "execution_count": 223,
     "metadata": {},
     "output_type": "execute_result"
    }
   ],
   "source": [
    "#filtering out the Mainstream Young single couples data\n",
    "\n",
    "ycm_df =  customer_df[(customer_df['Life_stage'] == 'Young Singles/Couples') & (\n",
    "    customer_df['Premier_customer'] == 'Mainstream')]\n",
    "\n",
    "ycm_df.head()"
   ]
  },
  {
   "cell_type": "code",
   "execution_count": 224,
   "id": "74e315b9",
   "metadata": {},
   "outputs": [
    {
     "data": {
      "text/plain": [
       "[['RRD'],\n",
       " ['Doritos'],\n",
       " ['Kettle', 'RRD', 'Infuzions'],\n",
       " ['Smiths', 'Smiths', 'Grn'],\n",
       " ['Tyrrells', 'Twisties', 'Doritos']]"
      ]
     },
     "execution_count": 224,
     "metadata": {},
     "output_type": "execute_result"
    }
   ],
   "source": [
    "#installing the necessary libraries\n",
    "from mlxtend.frequent_patterns import apriori , association_rules\n",
    "from mlxtend.preprocessing import TransactionEncoder\n",
    "\n",
    "#grouping the data \n",
    "# converting into list\n",
    "df = ycm_df.groupby('Loyalty_id')['Brand_name'].apply(list).tolist()\n",
    "df[:5]"
   ]
  },
  {
   "cell_type": "code",
   "execution_count": 225,
   "id": "f21c87fd",
   "metadata": {},
   "outputs": [
    {
     "data": {
      "text/html": [
       "<div>\n",
       "<style scoped>\n",
       "    .dataframe tbody tr th:only-of-type {\n",
       "        vertical-align: middle;\n",
       "    }\n",
       "\n",
       "    .dataframe tbody tr th {\n",
       "        vertical-align: top;\n",
       "    }\n",
       "\n",
       "    .dataframe thead th {\n",
       "        text-align: right;\n",
       "    }\n",
       "</style>\n",
       "<table border=\"1\" class=\"dataframe\">\n",
       "  <thead>\n",
       "    <tr style=\"text-align: right;\">\n",
       "      <th></th>\n",
       "      <th>Burger</th>\n",
       "      <th>CCs</th>\n",
       "      <th>Cheetos</th>\n",
       "      <th>Cheezels</th>\n",
       "      <th>Cobs Popd</th>\n",
       "      <th>Doritos</th>\n",
       "      <th>French Fries</th>\n",
       "      <th>Grain Waves</th>\n",
       "      <th>Grn</th>\n",
       "      <th>Infuzions</th>\n",
       "      <th>...</th>\n",
       "      <th>Natural Chip Co</th>\n",
       "      <th>Pringles</th>\n",
       "      <th>RRD</th>\n",
       "      <th>Smiths</th>\n",
       "      <th>Sunbites</th>\n",
       "      <th>Thins</th>\n",
       "      <th>Tostitos</th>\n",
       "      <th>Twisties</th>\n",
       "      <th>Tyrrells</th>\n",
       "      <th>Woolworths</th>\n",
       "    </tr>\n",
       "  </thead>\n",
       "  <tbody>\n",
       "    <tr>\n",
       "      <th>3853</th>\n",
       "      <td>False</td>\n",
       "      <td>False</td>\n",
       "      <td>False</td>\n",
       "      <td>False</td>\n",
       "      <td>False</td>\n",
       "      <td>False</td>\n",
       "      <td>False</td>\n",
       "      <td>False</td>\n",
       "      <td>False</td>\n",
       "      <td>False</td>\n",
       "      <td>...</td>\n",
       "      <td>False</td>\n",
       "      <td>False</td>\n",
       "      <td>False</td>\n",
       "      <td>True</td>\n",
       "      <td>False</td>\n",
       "      <td>False</td>\n",
       "      <td>False</td>\n",
       "      <td>False</td>\n",
       "      <td>False</td>\n",
       "      <td>False</td>\n",
       "    </tr>\n",
       "    <tr>\n",
       "      <th>7187</th>\n",
       "      <td>False</td>\n",
       "      <td>False</td>\n",
       "      <td>False</td>\n",
       "      <td>False</td>\n",
       "      <td>True</td>\n",
       "      <td>False</td>\n",
       "      <td>False</td>\n",
       "      <td>False</td>\n",
       "      <td>False</td>\n",
       "      <td>False</td>\n",
       "      <td>...</td>\n",
       "      <td>False</td>\n",
       "      <td>False</td>\n",
       "      <td>False</td>\n",
       "      <td>False</td>\n",
       "      <td>False</td>\n",
       "      <td>True</td>\n",
       "      <td>False</td>\n",
       "      <td>False</td>\n",
       "      <td>False</td>\n",
       "      <td>False</td>\n",
       "    </tr>\n",
       "    <tr>\n",
       "      <th>1775</th>\n",
       "      <td>False</td>\n",
       "      <td>False</td>\n",
       "      <td>False</td>\n",
       "      <td>False</td>\n",
       "      <td>False</td>\n",
       "      <td>True</td>\n",
       "      <td>False</td>\n",
       "      <td>False</td>\n",
       "      <td>False</td>\n",
       "      <td>False</td>\n",
       "      <td>...</td>\n",
       "      <td>False</td>\n",
       "      <td>True</td>\n",
       "      <td>False</td>\n",
       "      <td>False</td>\n",
       "      <td>False</td>\n",
       "      <td>False</td>\n",
       "      <td>False</td>\n",
       "      <td>False</td>\n",
       "      <td>False</td>\n",
       "      <td>False</td>\n",
       "    </tr>\n",
       "    <tr>\n",
       "      <th>2737</th>\n",
       "      <td>False</td>\n",
       "      <td>False</td>\n",
       "      <td>False</td>\n",
       "      <td>False</td>\n",
       "      <td>False</td>\n",
       "      <td>False</td>\n",
       "      <td>False</td>\n",
       "      <td>False</td>\n",
       "      <td>False</td>\n",
       "      <td>False</td>\n",
       "      <td>...</td>\n",
       "      <td>False</td>\n",
       "      <td>True</td>\n",
       "      <td>False</td>\n",
       "      <td>False</td>\n",
       "      <td>False</td>\n",
       "      <td>False</td>\n",
       "      <td>False</td>\n",
       "      <td>False</td>\n",
       "      <td>False</td>\n",
       "      <td>False</td>\n",
       "    </tr>\n",
       "    <tr>\n",
       "      <th>659</th>\n",
       "      <td>False</td>\n",
       "      <td>False</td>\n",
       "      <td>False</td>\n",
       "      <td>False</td>\n",
       "      <td>False</td>\n",
       "      <td>False</td>\n",
       "      <td>False</td>\n",
       "      <td>False</td>\n",
       "      <td>False</td>\n",
       "      <td>False</td>\n",
       "      <td>...</td>\n",
       "      <td>False</td>\n",
       "      <td>True</td>\n",
       "      <td>False</td>\n",
       "      <td>False</td>\n",
       "      <td>False</td>\n",
       "      <td>True</td>\n",
       "      <td>False</td>\n",
       "      <td>False</td>\n",
       "      <td>False</td>\n",
       "      <td>False</td>\n",
       "    </tr>\n",
       "    <tr>\n",
       "      <th>4945</th>\n",
       "      <td>False</td>\n",
       "      <td>False</td>\n",
       "      <td>False</td>\n",
       "      <td>False</td>\n",
       "      <td>False</td>\n",
       "      <td>False</td>\n",
       "      <td>False</td>\n",
       "      <td>False</td>\n",
       "      <td>False</td>\n",
       "      <td>False</td>\n",
       "      <td>...</td>\n",
       "      <td>False</td>\n",
       "      <td>False</td>\n",
       "      <td>False</td>\n",
       "      <td>False</td>\n",
       "      <td>False</td>\n",
       "      <td>True</td>\n",
       "      <td>False</td>\n",
       "      <td>False</td>\n",
       "      <td>False</td>\n",
       "      <td>False</td>\n",
       "    </tr>\n",
       "    <tr>\n",
       "      <th>6690</th>\n",
       "      <td>False</td>\n",
       "      <td>False</td>\n",
       "      <td>False</td>\n",
       "      <td>False</td>\n",
       "      <td>False</td>\n",
       "      <td>False</td>\n",
       "      <td>False</td>\n",
       "      <td>False</td>\n",
       "      <td>False</td>\n",
       "      <td>False</td>\n",
       "      <td>...</td>\n",
       "      <td>False</td>\n",
       "      <td>True</td>\n",
       "      <td>False</td>\n",
       "      <td>False</td>\n",
       "      <td>False</td>\n",
       "      <td>False</td>\n",
       "      <td>False</td>\n",
       "      <td>False</td>\n",
       "      <td>False</td>\n",
       "      <td>False</td>\n",
       "    </tr>\n",
       "    <tr>\n",
       "      <th>511</th>\n",
       "      <td>False</td>\n",
       "      <td>False</td>\n",
       "      <td>False</td>\n",
       "      <td>False</td>\n",
       "      <td>False</td>\n",
       "      <td>False</td>\n",
       "      <td>False</td>\n",
       "      <td>False</td>\n",
       "      <td>False</td>\n",
       "      <td>False</td>\n",
       "      <td>...</td>\n",
       "      <td>False</td>\n",
       "      <td>False</td>\n",
       "      <td>False</td>\n",
       "      <td>True</td>\n",
       "      <td>False</td>\n",
       "      <td>False</td>\n",
       "      <td>False</td>\n",
       "      <td>False</td>\n",
       "      <td>False</td>\n",
       "      <td>False</td>\n",
       "    </tr>\n",
       "    <tr>\n",
       "      <th>5367</th>\n",
       "      <td>True</td>\n",
       "      <td>False</td>\n",
       "      <td>False</td>\n",
       "      <td>False</td>\n",
       "      <td>False</td>\n",
       "      <td>False</td>\n",
       "      <td>False</td>\n",
       "      <td>False</td>\n",
       "      <td>False</td>\n",
       "      <td>False</td>\n",
       "      <td>...</td>\n",
       "      <td>False</td>\n",
       "      <td>False</td>\n",
       "      <td>False</td>\n",
       "      <td>False</td>\n",
       "      <td>False</td>\n",
       "      <td>False</td>\n",
       "      <td>True</td>\n",
       "      <td>False</td>\n",
       "      <td>False</td>\n",
       "      <td>False</td>\n",
       "    </tr>\n",
       "    <tr>\n",
       "      <th>4292</th>\n",
       "      <td>False</td>\n",
       "      <td>False</td>\n",
       "      <td>False</td>\n",
       "      <td>False</td>\n",
       "      <td>False</td>\n",
       "      <td>False</td>\n",
       "      <td>False</td>\n",
       "      <td>True</td>\n",
       "      <td>False</td>\n",
       "      <td>False</td>\n",
       "      <td>...</td>\n",
       "      <td>False</td>\n",
       "      <td>False</td>\n",
       "      <td>False</td>\n",
       "      <td>False</td>\n",
       "      <td>False</td>\n",
       "      <td>False</td>\n",
       "      <td>False</td>\n",
       "      <td>False</td>\n",
       "      <td>True</td>\n",
       "      <td>False</td>\n",
       "    </tr>\n",
       "  </tbody>\n",
       "</table>\n",
       "<p>10 rows × 21 columns</p>\n",
       "</div>"
      ],
      "text/plain": [
       "      Burger    CCs  Cheetos  Cheezels  Cobs Popd  Doritos  French Fries  \\\n",
       "3853   False  False    False     False      False    False         False   \n",
       "7187   False  False    False     False       True    False         False   \n",
       "1775   False  False    False     False      False     True         False   \n",
       "2737   False  False    False     False      False    False         False   \n",
       "659    False  False    False     False      False    False         False   \n",
       "4945   False  False    False     False      False    False         False   \n",
       "6690   False  False    False     False      False    False         False   \n",
       "511    False  False    False     False      False    False         False   \n",
       "5367    True  False    False     False      False    False         False   \n",
       "4292   False  False    False     False      False    False         False   \n",
       "\n",
       "      Grain Waves    Grn  Infuzions  ...  Natural Chip Co  Pringles    RRD  \\\n",
       "3853        False  False      False  ...            False     False  False   \n",
       "7187        False  False      False  ...            False     False  False   \n",
       "1775        False  False      False  ...            False      True  False   \n",
       "2737        False  False      False  ...            False      True  False   \n",
       "659         False  False      False  ...            False      True  False   \n",
       "4945        False  False      False  ...            False     False  False   \n",
       "6690        False  False      False  ...            False      True  False   \n",
       "511         False  False      False  ...            False     False  False   \n",
       "5367        False  False      False  ...            False     False  False   \n",
       "4292         True  False      False  ...            False     False  False   \n",
       "\n",
       "      Smiths  Sunbites  Thins  Tostitos  Twisties  Tyrrells  Woolworths  \n",
       "3853    True     False  False     False     False     False       False  \n",
       "7187   False     False   True     False     False     False       False  \n",
       "1775   False     False  False     False     False     False       False  \n",
       "2737   False     False  False     False     False     False       False  \n",
       "659    False     False   True     False     False     False       False  \n",
       "4945   False     False   True     False     False     False       False  \n",
       "6690   False     False  False     False     False     False       False  \n",
       "511     True     False  False     False     False     False       False  \n",
       "5367   False     False  False      True     False     False       False  \n",
       "4292   False     False  False     False     False      True       False  \n",
       "\n",
       "[10 rows x 21 columns]"
      ]
     },
     "execution_count": 225,
     "metadata": {},
     "output_type": "execute_result"
    }
   ],
   "source": [
    "te = TransactionEncoder()\n",
    "\n",
    "#Fitting and transforming the data \n",
    "te_ary = te.fit(df).transform(df)\n",
    "\n",
    "#Converting into Data frame \n",
    "encode_df = pd.DataFrame(te_ary,columns=te.columns_)\n",
    "\n",
    "#sample data\n",
    "encode_df.sample(10)"
   ]
  },
  {
   "cell_type": "markdown",
   "id": "7523cc31",
   "metadata": {},
   "source": [
    "### Frequent Pattern"
   ]
  },
  {
   "cell_type": "code",
   "execution_count": 226,
   "id": "db5d38a2",
   "metadata": {},
   "outputs": [
    {
     "data": {
      "text/html": [
       "<div>\n",
       "<style scoped>\n",
       "    .dataframe tbody tr th:only-of-type {\n",
       "        vertical-align: middle;\n",
       "    }\n",
       "\n",
       "    .dataframe tbody tr th {\n",
       "        vertical-align: top;\n",
       "    }\n",
       "\n",
       "    .dataframe thead th {\n",
       "        text-align: right;\n",
       "    }\n",
       "</style>\n",
       "<table border=\"1\" class=\"dataframe\">\n",
       "  <thead>\n",
       "    <tr style=\"text-align: right;\">\n",
       "      <th></th>\n",
       "      <th>support</th>\n",
       "      <th>itemsets</th>\n",
       "    </tr>\n",
       "  </thead>\n",
       "  <tbody>\n",
       "    <tr>\n",
       "      <th>5</th>\n",
       "      <td>0.387142</td>\n",
       "      <td>(Kettle)</td>\n",
       "    </tr>\n",
       "    <tr>\n",
       "      <th>2</th>\n",
       "      <td>0.260326</td>\n",
       "      <td>(Doritos)</td>\n",
       "    </tr>\n",
       "    <tr>\n",
       "      <th>7</th>\n",
       "      <td>0.256158</td>\n",
       "      <td>(Pringles)</td>\n",
       "    </tr>\n",
       "    <tr>\n",
       "      <th>9</th>\n",
       "      <td>0.202476</td>\n",
       "      <td>(Smiths)</td>\n",
       "    </tr>\n",
       "    <tr>\n",
       "      <th>4</th>\n",
       "      <td>0.143110</td>\n",
       "      <td>(Infuzions)</td>\n",
       "    </tr>\n",
       "  </tbody>\n",
       "</table>\n",
       "</div>"
      ],
      "text/plain": [
       "    support     itemsets\n",
       "5  0.387142     (Kettle)\n",
       "2  0.260326    (Doritos)\n",
       "7  0.256158   (Pringles)\n",
       "9  0.202476     (Smiths)\n",
       "4  0.143110  (Infuzions)"
      ]
     },
     "execution_count": 226,
     "metadata": {},
     "output_type": "execute_result"
    }
   ],
   "source": [
    "frequent_items = apriori(encode_df,min_support=0.03,use_colnames=True) #lets put the support 30%\n",
    "\n",
    "#Top 5 frequent itemssets\n",
    "frequent_items.sort_values(ascending=False,by='support').head()"
   ]
  },
  {
   "cell_type": "code",
   "execution_count": 227,
   "id": "75124184",
   "metadata": {},
   "outputs": [
    {
     "data": {
      "text/html": [
       "<div>\n",
       "<style scoped>\n",
       "    .dataframe tbody tr th:only-of-type {\n",
       "        vertical-align: middle;\n",
       "    }\n",
       "\n",
       "    .dataframe tbody tr th {\n",
       "        vertical-align: top;\n",
       "    }\n",
       "\n",
       "    .dataframe thead th {\n",
       "        text-align: right;\n",
       "    }\n",
       "</style>\n",
       "<table border=\"1\" class=\"dataframe\">\n",
       "  <thead>\n",
       "    <tr style=\"text-align: right;\">\n",
       "      <th></th>\n",
       "      <th>antecedents</th>\n",
       "      <th>consequents</th>\n",
       "      <th>antecedent support</th>\n",
       "      <th>consequent support</th>\n",
       "      <th>support</th>\n",
       "      <th>confidence</th>\n",
       "      <th>lift</th>\n",
       "      <th>representativity</th>\n",
       "      <th>leverage</th>\n",
       "      <th>conviction</th>\n",
       "      <th>zhangs_metric</th>\n",
       "      <th>jaccard</th>\n",
       "      <th>certainty</th>\n",
       "      <th>kulczynski</th>\n",
       "    </tr>\n",
       "  </thead>\n",
       "  <tbody>\n",
       "    <tr>\n",
       "      <th>6</th>\n",
       "      <td>(Thins)</td>\n",
       "      <td>(Kettle)</td>\n",
       "      <td>0.136036</td>\n",
       "      <td>0.387142</td>\n",
       "      <td>0.051282</td>\n",
       "      <td>0.376973</td>\n",
       "      <td>0.973734</td>\n",
       "      <td>1.0</td>\n",
       "      <td>-0.001383</td>\n",
       "      <td>0.983679</td>\n",
       "      <td>-0.030276</td>\n",
       "      <td>0.108672</td>\n",
       "      <td>-0.016592</td>\n",
       "      <td>0.254718</td>\n",
       "    </tr>\n",
       "    <tr>\n",
       "      <th>5</th>\n",
       "      <td>(Smiths)</td>\n",
       "      <td>(Kettle)</td>\n",
       "      <td>0.202476</td>\n",
       "      <td>0.387142</td>\n",
       "      <td>0.075660</td>\n",
       "      <td>0.373674</td>\n",
       "      <td>0.965214</td>\n",
       "      <td>1.0</td>\n",
       "      <td>-0.002727</td>\n",
       "      <td>0.978498</td>\n",
       "      <td>-0.043236</td>\n",
       "      <td>0.147211</td>\n",
       "      <td>-0.021974</td>\n",
       "      <td>0.284553</td>\n",
       "    </tr>\n",
       "    <tr>\n",
       "      <th>4</th>\n",
       "      <td>(RRD)</td>\n",
       "      <td>(Kettle)</td>\n",
       "      <td>0.093975</td>\n",
       "      <td>0.387142</td>\n",
       "      <td>0.034104</td>\n",
       "      <td>0.362903</td>\n",
       "      <td>0.937391</td>\n",
       "      <td>1.0</td>\n",
       "      <td>-0.002278</td>\n",
       "      <td>0.961955</td>\n",
       "      <td>-0.068657</td>\n",
       "      <td>0.076293</td>\n",
       "      <td>-0.039550</td>\n",
       "      <td>0.225497</td>\n",
       "    </tr>\n",
       "    <tr>\n",
       "      <th>0</th>\n",
       "      <td>(Cobs Popd)</td>\n",
       "      <td>(Kettle)</td>\n",
       "      <td>0.103827</td>\n",
       "      <td>0.387142</td>\n",
       "      <td>0.037262</td>\n",
       "      <td>0.358881</td>\n",
       "      <td>0.927001</td>\n",
       "      <td>1.0</td>\n",
       "      <td>-0.002934</td>\n",
       "      <td>0.955920</td>\n",
       "      <td>-0.080773</td>\n",
       "      <td>0.082127</td>\n",
       "      <td>-0.046113</td>\n",
       "      <td>0.227564</td>\n",
       "    </tr>\n",
       "    <tr>\n",
       "      <th>3</th>\n",
       "      <td>(Pringles)</td>\n",
       "      <td>(Kettle)</td>\n",
       "      <td>0.256158</td>\n",
       "      <td>0.387142</td>\n",
       "      <td>0.091449</td>\n",
       "      <td>0.357002</td>\n",
       "      <td>0.922148</td>\n",
       "      <td>1.0</td>\n",
       "      <td>-0.007720</td>\n",
       "      <td>0.953126</td>\n",
       "      <td>-0.101929</td>\n",
       "      <td>0.165713</td>\n",
       "      <td>-0.049179</td>\n",
       "      <td>0.296609</td>\n",
       "    </tr>\n",
       "    <tr>\n",
       "      <th>7</th>\n",
       "      <td>(Tostitos)</td>\n",
       "      <td>(Kettle)</td>\n",
       "      <td>0.105848</td>\n",
       "      <td>0.387142</td>\n",
       "      <td>0.037641</td>\n",
       "      <td>0.355609</td>\n",
       "      <td>0.918549</td>\n",
       "      <td>1.0</td>\n",
       "      <td>-0.003338</td>\n",
       "      <td>0.951065</td>\n",
       "      <td>-0.090223</td>\n",
       "      <td>0.082663</td>\n",
       "      <td>-0.051452</td>\n",
       "      <td>0.226418</td>\n",
       "    </tr>\n",
       "    <tr>\n",
       "      <th>9</th>\n",
       "      <td>(RRD)</td>\n",
       "      <td>(Smiths)</td>\n",
       "      <td>0.093975</td>\n",
       "      <td>0.202476</td>\n",
       "      <td>0.033346</td>\n",
       "      <td>0.354839</td>\n",
       "      <td>1.752500</td>\n",
       "      <td>1.0</td>\n",
       "      <td>0.014318</td>\n",
       "      <td>1.236163</td>\n",
       "      <td>0.473924</td>\n",
       "      <td>0.126740</td>\n",
       "      <td>0.191045</td>\n",
       "      <td>0.259765</td>\n",
       "    </tr>\n",
       "    <tr>\n",
       "      <th>2</th>\n",
       "      <td>(Infuzions)</td>\n",
       "      <td>(Kettle)</td>\n",
       "      <td>0.143110</td>\n",
       "      <td>0.387142</td>\n",
       "      <td>0.049766</td>\n",
       "      <td>0.347749</td>\n",
       "      <td>0.898248</td>\n",
       "      <td>1.0</td>\n",
       "      <td>-0.005637</td>\n",
       "      <td>0.939606</td>\n",
       "      <td>-0.116761</td>\n",
       "      <td>0.103575</td>\n",
       "      <td>-0.064276</td>\n",
       "      <td>0.238149</td>\n",
       "    </tr>\n",
       "    <tr>\n",
       "      <th>1</th>\n",
       "      <td>(Doritos)</td>\n",
       "      <td>(Kettle)</td>\n",
       "      <td>0.260326</td>\n",
       "      <td>0.387142</td>\n",
       "      <td>0.089933</td>\n",
       "      <td>0.345463</td>\n",
       "      <td>0.892344</td>\n",
       "      <td>1.0</td>\n",
       "      <td>-0.010850</td>\n",
       "      <td>0.936324</td>\n",
       "      <td>-0.140232</td>\n",
       "      <td>0.161305</td>\n",
       "      <td>-0.068006</td>\n",
       "      <td>0.288882</td>\n",
       "    </tr>\n",
       "    <tr>\n",
       "      <th>8</th>\n",
       "      <td>(Twisties)</td>\n",
       "      <td>(Kettle)</td>\n",
       "      <td>0.107364</td>\n",
       "      <td>0.387142</td>\n",
       "      <td>0.036251</td>\n",
       "      <td>0.337647</td>\n",
       "      <td>0.872154</td>\n",
       "      <td>1.0</td>\n",
       "      <td>-0.005314</td>\n",
       "      <td>0.925275</td>\n",
       "      <td>-0.141054</td>\n",
       "      <td>0.079107</td>\n",
       "      <td>-0.080760</td>\n",
       "      <td>0.215642</td>\n",
       "    </tr>\n",
       "  </tbody>\n",
       "</table>\n",
       "</div>"
      ],
      "text/plain": [
       "   antecedents consequents  antecedent support  consequent support   support  \\\n",
       "6      (Thins)    (Kettle)            0.136036            0.387142  0.051282   \n",
       "5     (Smiths)    (Kettle)            0.202476            0.387142  0.075660   \n",
       "4        (RRD)    (Kettle)            0.093975            0.387142  0.034104   \n",
       "0  (Cobs Popd)    (Kettle)            0.103827            0.387142  0.037262   \n",
       "3   (Pringles)    (Kettle)            0.256158            0.387142  0.091449   \n",
       "7   (Tostitos)    (Kettle)            0.105848            0.387142  0.037641   \n",
       "9        (RRD)    (Smiths)            0.093975            0.202476  0.033346   \n",
       "2  (Infuzions)    (Kettle)            0.143110            0.387142  0.049766   \n",
       "1    (Doritos)    (Kettle)            0.260326            0.387142  0.089933   \n",
       "8   (Twisties)    (Kettle)            0.107364            0.387142  0.036251   \n",
       "\n",
       "   confidence      lift  representativity  leverage  conviction  \\\n",
       "6    0.376973  0.973734               1.0 -0.001383    0.983679   \n",
       "5    0.373674  0.965214               1.0 -0.002727    0.978498   \n",
       "4    0.362903  0.937391               1.0 -0.002278    0.961955   \n",
       "0    0.358881  0.927001               1.0 -0.002934    0.955920   \n",
       "3    0.357002  0.922148               1.0 -0.007720    0.953126   \n",
       "7    0.355609  0.918549               1.0 -0.003338    0.951065   \n",
       "9    0.354839  1.752500               1.0  0.014318    1.236163   \n",
       "2    0.347749  0.898248               1.0 -0.005637    0.939606   \n",
       "1    0.345463  0.892344               1.0 -0.010850    0.936324   \n",
       "8    0.337647  0.872154               1.0 -0.005314    0.925275   \n",
       "\n",
       "   zhangs_metric   jaccard  certainty  kulczynski  \n",
       "6      -0.030276  0.108672  -0.016592    0.254718  \n",
       "5      -0.043236  0.147211  -0.021974    0.284553  \n",
       "4      -0.068657  0.076293  -0.039550    0.225497  \n",
       "0      -0.080773  0.082127  -0.046113    0.227564  \n",
       "3      -0.101929  0.165713  -0.049179    0.296609  \n",
       "7      -0.090223  0.082663  -0.051452    0.226418  \n",
       "9       0.473924  0.126740   0.191045    0.259765  \n",
       "2      -0.116761  0.103575  -0.064276    0.238149  \n",
       "1      -0.140232  0.161305  -0.068006    0.288882  \n",
       "8      -0.141054  0.079107  -0.080760    0.215642  "
      ]
     },
     "execution_count": 227,
     "metadata": {},
     "output_type": "execute_result"
    }
   ],
   "source": [
    "rules = association_rules(frequent_items,metric='confidence',min_threshold=0.3)  #30% \n",
    "rules.sort_values(ascending=False,by='confidence')"
   ]
  },
  {
   "cell_type": "markdown",
   "id": "6767c0d0",
   "metadata": {},
   "source": [
    "### **Key Insights (Confidence ≥ 30%)**  \n",
    "\n",
    "1. **Kettle is the Most Associated Brand**  \n",
    "   - Many chips brands (**Thins, Smiths, RRD, Pringles, Doritos**) frequently lead to **Kettle purchases** (**37.7% confidence for Thins → Kettle**).  \n",
    "\n",
    "2. **Strong RRD-Smiths Connection**  \n",
    "   - **RRD → Smiths (35.4% confidence, 1.75 lift)** suggests **RRD buyers are highly likely to buy Smiths**, making it ideal for **bundled promotions**.  \n",
    "\n",
    "3. **Marketing Strategy**  \n",
    "   - Promote **Kettle with Thins, Smiths, or Pringles** for better cross-sales.  \n",
    "   - **Pair RRD & Smiths** in offers to boost sales. 🚀selling strategies!"
   ]
  },
  {
   "cell_type": "markdown",
   "id": "1a692a36",
   "metadata": {},
   "source": [
    "- **Weights**"
   ]
  },
  {
   "cell_type": "code",
   "execution_count": 228,
   "id": "3a1e23ad",
   "metadata": {},
   "outputs": [
    {
     "data": {
      "text/plain": [
       "[[150], [170], [150, 165, 70], [150, 330, 180], [165, 270, 170]]"
      ]
     },
     "execution_count": 228,
     "metadata": {},
     "output_type": "execute_result"
    }
   ],
   "source": [
    "#filtering out the Mainstream Young single couples data\n",
    "\n",
    "#grouping the data \n",
    "# converting into list\n",
    "weight_df = ycm_df.groupby('Loyalty_id')['Weight'].apply(list).tolist()\n",
    "weight_df[:5]\n"
   ]
  },
  {
   "cell_type": "code",
   "execution_count": 229,
   "id": "abe29714",
   "metadata": {},
   "outputs": [
    {
     "data": {
      "text/html": [
       "<div>\n",
       "<style scoped>\n",
       "    .dataframe tbody tr th:only-of-type {\n",
       "        vertical-align: middle;\n",
       "    }\n",
       "\n",
       "    .dataframe tbody tr th {\n",
       "        vertical-align: top;\n",
       "    }\n",
       "\n",
       "    .dataframe thead th {\n",
       "        text-align: right;\n",
       "    }\n",
       "</style>\n",
       "<table border=\"1\" class=\"dataframe\">\n",
       "  <thead>\n",
       "    <tr style=\"text-align: right;\">\n",
       "      <th></th>\n",
       "      <th>70</th>\n",
       "      <th>90</th>\n",
       "      <th>110</th>\n",
       "      <th>125</th>\n",
       "      <th>134</th>\n",
       "      <th>135</th>\n",
       "      <th>150</th>\n",
       "      <th>160</th>\n",
       "      <th>165</th>\n",
       "      <th>170</th>\n",
       "      <th>175</th>\n",
       "      <th>180</th>\n",
       "      <th>190</th>\n",
       "      <th>200</th>\n",
       "      <th>210</th>\n",
       "      <th>220</th>\n",
       "      <th>250</th>\n",
       "      <th>270</th>\n",
       "      <th>330</th>\n",
       "      <th>380</th>\n",
       "    </tr>\n",
       "  </thead>\n",
       "  <tbody>\n",
       "    <tr>\n",
       "      <th>4912</th>\n",
       "      <td>False</td>\n",
       "      <td>False</td>\n",
       "      <td>False</td>\n",
       "      <td>False</td>\n",
       "      <td>False</td>\n",
       "      <td>False</td>\n",
       "      <td>False</td>\n",
       "      <td>False</td>\n",
       "      <td>False</td>\n",
       "      <td>False</td>\n",
       "      <td>True</td>\n",
       "      <td>False</td>\n",
       "      <td>False</td>\n",
       "      <td>False</td>\n",
       "      <td>False</td>\n",
       "      <td>False</td>\n",
       "      <td>False</td>\n",
       "      <td>False</td>\n",
       "      <td>False</td>\n",
       "      <td>False</td>\n",
       "    </tr>\n",
       "    <tr>\n",
       "      <th>7787</th>\n",
       "      <td>False</td>\n",
       "      <td>False</td>\n",
       "      <td>False</td>\n",
       "      <td>False</td>\n",
       "      <td>False</td>\n",
       "      <td>False</td>\n",
       "      <td>False</td>\n",
       "      <td>False</td>\n",
       "      <td>False</td>\n",
       "      <td>False</td>\n",
       "      <td>False</td>\n",
       "      <td>False</td>\n",
       "      <td>False</td>\n",
       "      <td>False</td>\n",
       "      <td>True</td>\n",
       "      <td>False</td>\n",
       "      <td>False</td>\n",
       "      <td>False</td>\n",
       "      <td>False</td>\n",
       "      <td>False</td>\n",
       "    </tr>\n",
       "    <tr>\n",
       "      <th>1064</th>\n",
       "      <td>False</td>\n",
       "      <td>False</td>\n",
       "      <td>False</td>\n",
       "      <td>False</td>\n",
       "      <td>False</td>\n",
       "      <td>False</td>\n",
       "      <td>False</td>\n",
       "      <td>False</td>\n",
       "      <td>False</td>\n",
       "      <td>False</td>\n",
       "      <td>True</td>\n",
       "      <td>False</td>\n",
       "      <td>False</td>\n",
       "      <td>False</td>\n",
       "      <td>False</td>\n",
       "      <td>False</td>\n",
       "      <td>False</td>\n",
       "      <td>False</td>\n",
       "      <td>False</td>\n",
       "      <td>True</td>\n",
       "    </tr>\n",
       "    <tr>\n",
       "      <th>7375</th>\n",
       "      <td>False</td>\n",
       "      <td>False</td>\n",
       "      <td>True</td>\n",
       "      <td>False</td>\n",
       "      <td>False</td>\n",
       "      <td>False</td>\n",
       "      <td>False</td>\n",
       "      <td>False</td>\n",
       "      <td>False</td>\n",
       "      <td>False</td>\n",
       "      <td>False</td>\n",
       "      <td>False</td>\n",
       "      <td>False</td>\n",
       "      <td>False</td>\n",
       "      <td>False</td>\n",
       "      <td>False</td>\n",
       "      <td>False</td>\n",
       "      <td>False</td>\n",
       "      <td>False</td>\n",
       "      <td>False</td>\n",
       "    </tr>\n",
       "    <tr>\n",
       "      <th>5633</th>\n",
       "      <td>False</td>\n",
       "      <td>False</td>\n",
       "      <td>False</td>\n",
       "      <td>False</td>\n",
       "      <td>False</td>\n",
       "      <td>False</td>\n",
       "      <td>True</td>\n",
       "      <td>False</td>\n",
       "      <td>False</td>\n",
       "      <td>False</td>\n",
       "      <td>True</td>\n",
       "      <td>False</td>\n",
       "      <td>False</td>\n",
       "      <td>False</td>\n",
       "      <td>False</td>\n",
       "      <td>False</td>\n",
       "      <td>False</td>\n",
       "      <td>False</td>\n",
       "      <td>False</td>\n",
       "      <td>False</td>\n",
       "    </tr>\n",
       "    <tr>\n",
       "      <th>6222</th>\n",
       "      <td>False</td>\n",
       "      <td>False</td>\n",
       "      <td>False</td>\n",
       "      <td>False</td>\n",
       "      <td>False</td>\n",
       "      <td>False</td>\n",
       "      <td>False</td>\n",
       "      <td>False</td>\n",
       "      <td>False</td>\n",
       "      <td>False</td>\n",
       "      <td>True</td>\n",
       "      <td>False</td>\n",
       "      <td>False</td>\n",
       "      <td>False</td>\n",
       "      <td>False</td>\n",
       "      <td>False</td>\n",
       "      <td>False</td>\n",
       "      <td>False</td>\n",
       "      <td>False</td>\n",
       "      <td>False</td>\n",
       "    </tr>\n",
       "    <tr>\n",
       "      <th>606</th>\n",
       "      <td>False</td>\n",
       "      <td>True</td>\n",
       "      <td>False</td>\n",
       "      <td>False</td>\n",
       "      <td>False</td>\n",
       "      <td>False</td>\n",
       "      <td>False</td>\n",
       "      <td>False</td>\n",
       "      <td>False</td>\n",
       "      <td>False</td>\n",
       "      <td>False</td>\n",
       "      <td>False</td>\n",
       "      <td>False</td>\n",
       "      <td>False</td>\n",
       "      <td>False</td>\n",
       "      <td>False</td>\n",
       "      <td>False</td>\n",
       "      <td>False</td>\n",
       "      <td>False</td>\n",
       "      <td>False</td>\n",
       "    </tr>\n",
       "    <tr>\n",
       "      <th>5805</th>\n",
       "      <td>False</td>\n",
       "      <td>False</td>\n",
       "      <td>False</td>\n",
       "      <td>False</td>\n",
       "      <td>False</td>\n",
       "      <td>False</td>\n",
       "      <td>True</td>\n",
       "      <td>False</td>\n",
       "      <td>False</td>\n",
       "      <td>True</td>\n",
       "      <td>False</td>\n",
       "      <td>False</td>\n",
       "      <td>False</td>\n",
       "      <td>False</td>\n",
       "      <td>False</td>\n",
       "      <td>False</td>\n",
       "      <td>False</td>\n",
       "      <td>False</td>\n",
       "      <td>False</td>\n",
       "      <td>False</td>\n",
       "    </tr>\n",
       "    <tr>\n",
       "      <th>1257</th>\n",
       "      <td>False</td>\n",
       "      <td>False</td>\n",
       "      <td>False</td>\n",
       "      <td>False</td>\n",
       "      <td>False</td>\n",
       "      <td>False</td>\n",
       "      <td>False</td>\n",
       "      <td>False</td>\n",
       "      <td>False</td>\n",
       "      <td>True</td>\n",
       "      <td>False</td>\n",
       "      <td>False</td>\n",
       "      <td>False</td>\n",
       "      <td>False</td>\n",
       "      <td>False</td>\n",
       "      <td>False</td>\n",
       "      <td>False</td>\n",
       "      <td>False</td>\n",
       "      <td>False</td>\n",
       "      <td>False</td>\n",
       "    </tr>\n",
       "    <tr>\n",
       "      <th>4517</th>\n",
       "      <td>False</td>\n",
       "      <td>False</td>\n",
       "      <td>False</td>\n",
       "      <td>False</td>\n",
       "      <td>False</td>\n",
       "      <td>False</td>\n",
       "      <td>False</td>\n",
       "      <td>False</td>\n",
       "      <td>False</td>\n",
       "      <td>False</td>\n",
       "      <td>True</td>\n",
       "      <td>False</td>\n",
       "      <td>False</td>\n",
       "      <td>False</td>\n",
       "      <td>False</td>\n",
       "      <td>False</td>\n",
       "      <td>False</td>\n",
       "      <td>False</td>\n",
       "      <td>False</td>\n",
       "      <td>False</td>\n",
       "    </tr>\n",
       "  </tbody>\n",
       "</table>\n",
       "</div>"
      ],
      "text/plain": [
       "        70     90     110    125    134    135    150    160    165    170  \\\n",
       "4912  False  False  False  False  False  False  False  False  False  False   \n",
       "7787  False  False  False  False  False  False  False  False  False  False   \n",
       "1064  False  False  False  False  False  False  False  False  False  False   \n",
       "7375  False  False   True  False  False  False  False  False  False  False   \n",
       "5633  False  False  False  False  False  False   True  False  False  False   \n",
       "6222  False  False  False  False  False  False  False  False  False  False   \n",
       "606   False   True  False  False  False  False  False  False  False  False   \n",
       "5805  False  False  False  False  False  False   True  False  False   True   \n",
       "1257  False  False  False  False  False  False  False  False  False   True   \n",
       "4517  False  False  False  False  False  False  False  False  False  False   \n",
       "\n",
       "        175    180    190    200    210    220    250    270    330    380  \n",
       "4912   True  False  False  False  False  False  False  False  False  False  \n",
       "7787  False  False  False  False   True  False  False  False  False  False  \n",
       "1064   True  False  False  False  False  False  False  False  False   True  \n",
       "7375  False  False  False  False  False  False  False  False  False  False  \n",
       "5633   True  False  False  False  False  False  False  False  False  False  \n",
       "6222   True  False  False  False  False  False  False  False  False  False  \n",
       "606   False  False  False  False  False  False  False  False  False  False  \n",
       "5805  False  False  False  False  False  False  False  False  False  False  \n",
       "1257  False  False  False  False  False  False  False  False  False  False  \n",
       "4517   True  False  False  False  False  False  False  False  False  False  "
      ]
     },
     "execution_count": 229,
     "metadata": {},
     "output_type": "execute_result"
    }
   ],
   "source": [
    "te = TransactionEncoder()\n",
    "\n",
    "#Fitting and transforming the data \n",
    "we_ary = te.fit(weight_df).transform(weight_df)\n",
    "\n",
    "#Converting into Data frame \n",
    "weight_encode_df = pd.DataFrame(we_ary,columns=te.columns_)\n",
    "\n",
    "#sample data\n",
    "weight_encode_df.sample(10)"
   ]
  },
  {
   "cell_type": "code",
   "execution_count": 230,
   "id": "39c79fc5",
   "metadata": {},
   "outputs": [
    {
     "data": {
      "text/html": [
       "<div>\n",
       "<style scoped>\n",
       "    .dataframe tbody tr th:only-of-type {\n",
       "        vertical-align: middle;\n",
       "    }\n",
       "\n",
       "    .dataframe tbody tr th {\n",
       "        vertical-align: top;\n",
       "    }\n",
       "\n",
       "    .dataframe thead th {\n",
       "        text-align: right;\n",
       "    }\n",
       "</style>\n",
       "<table border=\"1\" class=\"dataframe\">\n",
       "  <thead>\n",
       "    <tr style=\"text-align: right;\">\n",
       "      <th></th>\n",
       "      <th>support</th>\n",
       "      <th>itemsets</th>\n",
       "    </tr>\n",
       "  </thead>\n",
       "  <tbody>\n",
       "    <tr>\n",
       "      <th>6</th>\n",
       "      <td>0.458254</td>\n",
       "      <td>(175)</td>\n",
       "    </tr>\n",
       "    <tr>\n",
       "      <th>3</th>\n",
       "      <td>0.313755</td>\n",
       "      <td>(150)</td>\n",
       "    </tr>\n",
       "    <tr>\n",
       "      <th>1</th>\n",
       "      <td>0.256158</td>\n",
       "      <td>(134)</td>\n",
       "    </tr>\n",
       "    <tr>\n",
       "      <th>0</th>\n",
       "      <td>0.224454</td>\n",
       "      <td>(110)</td>\n",
       "    </tr>\n",
       "    <tr>\n",
       "      <th>5</th>\n",
       "      <td>0.176835</td>\n",
       "      <td>(170)</td>\n",
       "    </tr>\n",
       "  </tbody>\n",
       "</table>\n",
       "</div>"
      ],
      "text/plain": [
       "    support itemsets\n",
       "6  0.458254    (175)\n",
       "3  0.313755    (150)\n",
       "1  0.256158    (134)\n",
       "0  0.224454    (110)\n",
       "5  0.176835    (170)"
      ]
     },
     "execution_count": 230,
     "metadata": {},
     "output_type": "execute_result"
    }
   ],
   "source": [
    "w_frequent_items = apriori(weight_encode_df,min_support=0.03,use_colnames=True) #lets put the support 30%\n",
    "\n",
    "#Top 5 frequent itemssets\n",
    "w_frequent_items.sort_values(ascending=False,by='support').head()"
   ]
  },
  {
   "cell_type": "code",
   "execution_count": 231,
   "id": "6b88070f",
   "metadata": {},
   "outputs": [
    {
     "data": {
      "text/html": [
       "<div>\n",
       "<style scoped>\n",
       "    .dataframe tbody tr th:only-of-type {\n",
       "        vertical-align: middle;\n",
       "    }\n",
       "\n",
       "    .dataframe tbody tr th {\n",
       "        vertical-align: top;\n",
       "    }\n",
       "\n",
       "    .dataframe thead th {\n",
       "        text-align: right;\n",
       "    }\n",
       "</style>\n",
       "<table border=\"1\" class=\"dataframe\">\n",
       "  <thead>\n",
       "    <tr style=\"text-align: right;\">\n",
       "      <th></th>\n",
       "      <th>antecedents</th>\n",
       "      <th>consequents</th>\n",
       "      <th>antecedent support</th>\n",
       "      <th>consequent support</th>\n",
       "      <th>support</th>\n",
       "      <th>confidence</th>\n",
       "      <th>lift</th>\n",
       "      <th>representativity</th>\n",
       "      <th>leverage</th>\n",
       "      <th>conviction</th>\n",
       "      <th>zhangs_metric</th>\n",
       "      <th>jaccard</th>\n",
       "      <th>certainty</th>\n",
       "      <th>kulczynski</th>\n",
       "    </tr>\n",
       "  </thead>\n",
       "  <tbody>\n",
       "    <tr>\n",
       "      <th>16</th>\n",
       "      <td>(170, 150)</td>\n",
       "      <td>(175)</td>\n",
       "      <td>0.054692</td>\n",
       "      <td>0.458254</td>\n",
       "      <td>0.030693</td>\n",
       "      <td>0.561201</td>\n",
       "      <td>1.224649</td>\n",
       "      <td>1.0</td>\n",
       "      <td>0.005630</td>\n",
       "      <td>1.234610</td>\n",
       "      <td>0.194053</td>\n",
       "      <td>0.063646</td>\n",
       "      <td>0.190027</td>\n",
       "      <td>0.314090</td>\n",
       "    </tr>\n",
       "    <tr>\n",
       "      <th>14</th>\n",
       "      <td>(134, 150)</td>\n",
       "      <td>(175)</td>\n",
       "      <td>0.075028</td>\n",
       "      <td>0.458254</td>\n",
       "      <td>0.040293</td>\n",
       "      <td>0.537037</td>\n",
       "      <td>1.171919</td>\n",
       "      <td>1.0</td>\n",
       "      <td>0.005911</td>\n",
       "      <td>1.170171</td>\n",
       "      <td>0.158598</td>\n",
       "      <td>0.081732</td>\n",
       "      <td>0.145424</td>\n",
       "      <td>0.312482</td>\n",
       "    </tr>\n",
       "    <tr>\n",
       "      <th>12</th>\n",
       "      <td>(110, 150)</td>\n",
       "      <td>(175)</td>\n",
       "      <td>0.065303</td>\n",
       "      <td>0.458254</td>\n",
       "      <td>0.033346</td>\n",
       "      <td>0.510638</td>\n",
       "      <td>1.114312</td>\n",
       "      <td>1.0</td>\n",
       "      <td>0.003421</td>\n",
       "      <td>1.107045</td>\n",
       "      <td>0.109752</td>\n",
       "      <td>0.068024</td>\n",
       "      <td>0.096695</td>\n",
       "      <td>0.291703</td>\n",
       "    </tr>\n",
       "    <tr>\n",
       "      <th>7</th>\n",
       "      <td>(165)</td>\n",
       "      <td>(175)</td>\n",
       "      <td>0.127700</td>\n",
       "      <td>0.458254</td>\n",
       "      <td>0.060124</td>\n",
       "      <td>0.470821</td>\n",
       "      <td>1.027423</td>\n",
       "      <td>1.0</td>\n",
       "      <td>0.001605</td>\n",
       "      <td>1.023747</td>\n",
       "      <td>0.030598</td>\n",
       "      <td>0.114341</td>\n",
       "      <td>0.023196</td>\n",
       "      <td>0.301011</td>\n",
       "    </tr>\n",
       "    <tr>\n",
       "      <th>8</th>\n",
       "      <td>(170)</td>\n",
       "      <td>(175)</td>\n",
       "      <td>0.176835</td>\n",
       "      <td>0.458254</td>\n",
       "      <td>0.080586</td>\n",
       "      <td>0.455714</td>\n",
       "      <td>0.994457</td>\n",
       "      <td>1.0</td>\n",
       "      <td>-0.000449</td>\n",
       "      <td>0.995333</td>\n",
       "      <td>-0.006726</td>\n",
       "      <td>0.145330</td>\n",
       "      <td>-0.004689</td>\n",
       "      <td>0.315784</td>\n",
       "    </tr>\n",
       "    <tr>\n",
       "      <th>11</th>\n",
       "      <td>(380)</td>\n",
       "      <td>(175)</td>\n",
       "      <td>0.076418</td>\n",
       "      <td>0.458254</td>\n",
       "      <td>0.033725</td>\n",
       "      <td>0.441322</td>\n",
       "      <td>0.963051</td>\n",
       "      <td>1.0</td>\n",
       "      <td>-0.001294</td>\n",
       "      <td>0.969693</td>\n",
       "      <td>-0.039884</td>\n",
       "      <td>0.067322</td>\n",
       "      <td>-0.031255</td>\n",
       "      <td>0.257458</td>\n",
       "    </tr>\n",
       "    <tr>\n",
       "      <th>4</th>\n",
       "      <td>(150)</td>\n",
       "      <td>(175)</td>\n",
       "      <td>0.313755</td>\n",
       "      <td>0.458254</td>\n",
       "      <td>0.137931</td>\n",
       "      <td>0.439614</td>\n",
       "      <td>0.959322</td>\n",
       "      <td>1.0</td>\n",
       "      <td>-0.005849</td>\n",
       "      <td>0.966736</td>\n",
       "      <td>-0.058194</td>\n",
       "      <td>0.217530</td>\n",
       "      <td>-0.034409</td>\n",
       "      <td>0.370303</td>\n",
       "    </tr>\n",
       "    <tr>\n",
       "      <th>1</th>\n",
       "      <td>(134)</td>\n",
       "      <td>(175)</td>\n",
       "      <td>0.256158</td>\n",
       "      <td>0.458254</td>\n",
       "      <td>0.111153</td>\n",
       "      <td>0.433925</td>\n",
       "      <td>0.946909</td>\n",
       "      <td>1.0</td>\n",
       "      <td>-0.006232</td>\n",
       "      <td>0.957021</td>\n",
       "      <td>-0.070093</td>\n",
       "      <td>0.184255</td>\n",
       "      <td>-0.044909</td>\n",
       "      <td>0.338241</td>\n",
       "    </tr>\n",
       "    <tr>\n",
       "      <th>10</th>\n",
       "      <td>(330)</td>\n",
       "      <td>(175)</td>\n",
       "      <td>0.139320</td>\n",
       "      <td>0.458254</td>\n",
       "      <td>0.059113</td>\n",
       "      <td>0.424297</td>\n",
       "      <td>0.925899</td>\n",
       "      <td>1.0</td>\n",
       "      <td>-0.004731</td>\n",
       "      <td>0.941016</td>\n",
       "      <td>-0.085075</td>\n",
       "      <td>0.109782</td>\n",
       "      <td>-0.062681</td>\n",
       "      <td>0.276647</td>\n",
       "    </tr>\n",
       "    <tr>\n",
       "      <th>9</th>\n",
       "      <td>(270)</td>\n",
       "      <td>(175)</td>\n",
       "      <td>0.074902</td>\n",
       "      <td>0.458254</td>\n",
       "      <td>0.031578</td>\n",
       "      <td>0.421585</td>\n",
       "      <td>0.919981</td>\n",
       "      <td>1.0</td>\n",
       "      <td>-0.002747</td>\n",
       "      <td>0.936604</td>\n",
       "      <td>-0.085941</td>\n",
       "      <td>0.062956</td>\n",
       "      <td>-0.067687</td>\n",
       "      <td>0.245247</td>\n",
       "    </tr>\n",
       "    <tr>\n",
       "      <th>0</th>\n",
       "      <td>(110)</td>\n",
       "      <td>(175)</td>\n",
       "      <td>0.224454</td>\n",
       "      <td>0.458254</td>\n",
       "      <td>0.094480</td>\n",
       "      <td>0.420934</td>\n",
       "      <td>0.918560</td>\n",
       "      <td>1.0</td>\n",
       "      <td>-0.008377</td>\n",
       "      <td>0.935551</td>\n",
       "      <td>-0.102592</td>\n",
       "      <td>0.160618</td>\n",
       "      <td>-0.068889</td>\n",
       "      <td>0.313554</td>\n",
       "    </tr>\n",
       "    <tr>\n",
       "      <th>17</th>\n",
       "      <td>(170, 175)</td>\n",
       "      <td>(150)</td>\n",
       "      <td>0.080586</td>\n",
       "      <td>0.313755</td>\n",
       "      <td>0.030693</td>\n",
       "      <td>0.380878</td>\n",
       "      <td>1.213933</td>\n",
       "      <td>1.0</td>\n",
       "      <td>0.005409</td>\n",
       "      <td>1.108416</td>\n",
       "      <td>0.191678</td>\n",
       "      <td>0.084404</td>\n",
       "      <td>0.097811</td>\n",
       "      <td>0.239352</td>\n",
       "    </tr>\n",
       "    <tr>\n",
       "      <th>15</th>\n",
       "      <td>(134, 175)</td>\n",
       "      <td>(150)</td>\n",
       "      <td>0.111153</td>\n",
       "      <td>0.313755</td>\n",
       "      <td>0.040293</td>\n",
       "      <td>0.362500</td>\n",
       "      <td>1.155359</td>\n",
       "      <td>1.0</td>\n",
       "      <td>0.005418</td>\n",
       "      <td>1.076462</td>\n",
       "      <td>0.151284</td>\n",
       "      <td>0.104762</td>\n",
       "      <td>0.071031</td>\n",
       "      <td>0.245461</td>\n",
       "    </tr>\n",
       "    <tr>\n",
       "      <th>13</th>\n",
       "      <td>(110, 175)</td>\n",
       "      <td>(150)</td>\n",
       "      <td>0.094480</td>\n",
       "      <td>0.313755</td>\n",
       "      <td>0.033346</td>\n",
       "      <td>0.352941</td>\n",
       "      <td>1.124893</td>\n",
       "      <td>1.0</td>\n",
       "      <td>0.003702</td>\n",
       "      <td>1.060560</td>\n",
       "      <td>0.122611</td>\n",
       "      <td>0.088949</td>\n",
       "      <td>0.057102</td>\n",
       "      <td>0.229611</td>\n",
       "    </tr>\n",
       "    <tr>\n",
       "      <th>2</th>\n",
       "      <td>(165)</td>\n",
       "      <td>(150)</td>\n",
       "      <td>0.127700</td>\n",
       "      <td>0.313755</td>\n",
       "      <td>0.043577</td>\n",
       "      <td>0.341246</td>\n",
       "      <td>1.087620</td>\n",
       "      <td>1.0</td>\n",
       "      <td>0.003511</td>\n",
       "      <td>1.041732</td>\n",
       "      <td>0.092354</td>\n",
       "      <td>0.109524</td>\n",
       "      <td>0.040060</td>\n",
       "      <td>0.240068</td>\n",
       "    </tr>\n",
       "    <tr>\n",
       "      <th>3</th>\n",
       "      <td>(170)</td>\n",
       "      <td>(150)</td>\n",
       "      <td>0.176835</td>\n",
       "      <td>0.313755</td>\n",
       "      <td>0.054692</td>\n",
       "      <td>0.309286</td>\n",
       "      <td>0.985755</td>\n",
       "      <td>1.0</td>\n",
       "      <td>-0.000790</td>\n",
       "      <td>0.993529</td>\n",
       "      <td>-0.017253</td>\n",
       "      <td>0.125471</td>\n",
       "      <td>-0.006513</td>\n",
       "      <td>0.241801</td>\n",
       "    </tr>\n",
       "    <tr>\n",
       "      <th>6</th>\n",
       "      <td>(330)</td>\n",
       "      <td>(150)</td>\n",
       "      <td>0.139320</td>\n",
       "      <td>0.313755</td>\n",
       "      <td>0.042693</td>\n",
       "      <td>0.306437</td>\n",
       "      <td>0.976675</td>\n",
       "      <td>1.0</td>\n",
       "      <td>-0.001020</td>\n",
       "      <td>0.989448</td>\n",
       "      <td>-0.026998</td>\n",
       "      <td>0.104032</td>\n",
       "      <td>-0.010664</td>\n",
       "      <td>0.221254</td>\n",
       "    </tr>\n",
       "    <tr>\n",
       "      <th>5</th>\n",
       "      <td>(175)</td>\n",
       "      <td>(150)</td>\n",
       "      <td>0.458254</td>\n",
       "      <td>0.313755</td>\n",
       "      <td>0.137931</td>\n",
       "      <td>0.300992</td>\n",
       "      <td>0.959322</td>\n",
       "      <td>1.0</td>\n",
       "      <td>-0.005849</td>\n",
       "      <td>0.981741</td>\n",
       "      <td>-0.072589</td>\n",
       "      <td>0.217530</td>\n",
       "      <td>-0.018598</td>\n",
       "      <td>0.370303</td>\n",
       "    </tr>\n",
       "  </tbody>\n",
       "</table>\n",
       "</div>"
      ],
      "text/plain": [
       "   antecedents consequents  antecedent support  consequent support   support  \\\n",
       "16  (170, 150)       (175)            0.054692            0.458254  0.030693   \n",
       "14  (134, 150)       (175)            0.075028            0.458254  0.040293   \n",
       "12  (110, 150)       (175)            0.065303            0.458254  0.033346   \n",
       "7        (165)       (175)            0.127700            0.458254  0.060124   \n",
       "8        (170)       (175)            0.176835            0.458254  0.080586   \n",
       "11       (380)       (175)            0.076418            0.458254  0.033725   \n",
       "4        (150)       (175)            0.313755            0.458254  0.137931   \n",
       "1        (134)       (175)            0.256158            0.458254  0.111153   \n",
       "10       (330)       (175)            0.139320            0.458254  0.059113   \n",
       "9        (270)       (175)            0.074902            0.458254  0.031578   \n",
       "0        (110)       (175)            0.224454            0.458254  0.094480   \n",
       "17  (170, 175)       (150)            0.080586            0.313755  0.030693   \n",
       "15  (134, 175)       (150)            0.111153            0.313755  0.040293   \n",
       "13  (110, 175)       (150)            0.094480            0.313755  0.033346   \n",
       "2        (165)       (150)            0.127700            0.313755  0.043577   \n",
       "3        (170)       (150)            0.176835            0.313755  0.054692   \n",
       "6        (330)       (150)            0.139320            0.313755  0.042693   \n",
       "5        (175)       (150)            0.458254            0.313755  0.137931   \n",
       "\n",
       "    confidence      lift  representativity  leverage  conviction  \\\n",
       "16    0.561201  1.224649               1.0  0.005630    1.234610   \n",
       "14    0.537037  1.171919               1.0  0.005911    1.170171   \n",
       "12    0.510638  1.114312               1.0  0.003421    1.107045   \n",
       "7     0.470821  1.027423               1.0  0.001605    1.023747   \n",
       "8     0.455714  0.994457               1.0 -0.000449    0.995333   \n",
       "11    0.441322  0.963051               1.0 -0.001294    0.969693   \n",
       "4     0.439614  0.959322               1.0 -0.005849    0.966736   \n",
       "1     0.433925  0.946909               1.0 -0.006232    0.957021   \n",
       "10    0.424297  0.925899               1.0 -0.004731    0.941016   \n",
       "9     0.421585  0.919981               1.0 -0.002747    0.936604   \n",
       "0     0.420934  0.918560               1.0 -0.008377    0.935551   \n",
       "17    0.380878  1.213933               1.0  0.005409    1.108416   \n",
       "15    0.362500  1.155359               1.0  0.005418    1.076462   \n",
       "13    0.352941  1.124893               1.0  0.003702    1.060560   \n",
       "2     0.341246  1.087620               1.0  0.003511    1.041732   \n",
       "3     0.309286  0.985755               1.0 -0.000790    0.993529   \n",
       "6     0.306437  0.976675               1.0 -0.001020    0.989448   \n",
       "5     0.300992  0.959322               1.0 -0.005849    0.981741   \n",
       "\n",
       "    zhangs_metric   jaccard  certainty  kulczynski  \n",
       "16       0.194053  0.063646   0.190027    0.314090  \n",
       "14       0.158598  0.081732   0.145424    0.312482  \n",
       "12       0.109752  0.068024   0.096695    0.291703  \n",
       "7        0.030598  0.114341   0.023196    0.301011  \n",
       "8       -0.006726  0.145330  -0.004689    0.315784  \n",
       "11      -0.039884  0.067322  -0.031255    0.257458  \n",
       "4       -0.058194  0.217530  -0.034409    0.370303  \n",
       "1       -0.070093  0.184255  -0.044909    0.338241  \n",
       "10      -0.085075  0.109782  -0.062681    0.276647  \n",
       "9       -0.085941  0.062956  -0.067687    0.245247  \n",
       "0       -0.102592  0.160618  -0.068889    0.313554  \n",
       "17       0.191678  0.084404   0.097811    0.239352  \n",
       "15       0.151284  0.104762   0.071031    0.245461  \n",
       "13       0.122611  0.088949   0.057102    0.229611  \n",
       "2        0.092354  0.109524   0.040060    0.240068  \n",
       "3       -0.017253  0.125471  -0.006513    0.241801  \n",
       "6       -0.026998  0.104032  -0.010664    0.221254  \n",
       "5       -0.072589  0.217530  -0.018598    0.370303  "
      ]
     },
     "execution_count": 231,
     "metadata": {},
     "output_type": "execute_result"
    }
   ],
   "source": [
    "w_rules = association_rules(w_frequent_items,metric='confidence',min_threshold=0.3)  #30% \n",
    "w_rules.sort_values(ascending=False,by='confidence')"
   ]
  },
  {
   "cell_type": "markdown",
   "id": "64833b5a",
   "metadata": {},
   "source": [
    "### **Key Insights (Confidence ≥ 30%)**  \n",
    "\n",
    "1. **Strong Association with Item 175**  \n",
    "   - **(170, 150) → 175 (56.1% confidence, 1.22 lift)** suggests **buying 170 & 150 together increases the likelihood of purchasing 175**.  \n",
    "   - **Single items 150, 134, 110, and 165 also strongly associate with 175 (≥ 42% confidence).**  \n",
    "\n",
    "2. **Item 150 & 175 Have Mutual Influence**  \n",
    "   - **175 → 150 (30% confidence, 0.96 lift)** and **150 → 175 (43.9% confidence, 0.96 lift)** show **strong bidirectional association**.  \n",
    "   - **Promote 150 & 175 together** to maximize cross-sales.  \n",
    "\n",
    "3. **Marketing Strategy**  \n",
    "   - Bundle **170, 150 & 175** for targeted promotions.  \n",
    "   - Recommend **150 when selling 175, and vice versa** to enhance sales."
   ]
  },
  {
   "cell_type": "code",
   "execution_count": null,
   "id": "df6ce709",
   "metadata": {},
   "outputs": [],
   "source": [
    "#Loading the data csv for further analysis\n",
    "customer_df.to_excel(\"customer_transcation_df.xlsx\",index=False)"
   ]
  },
  {
   "cell_type": "code",
   "execution_count": null,
   "id": "2f64cddd",
   "metadata": {},
   "outputs": [],
   "source": []
  },
  {
   "cell_type": "code",
   "execution_count": null,
   "id": "a22ba819",
   "metadata": {},
   "outputs": [],
   "source": []
  }
 ],
 "metadata": {
  "kernelspec": {
   "display_name": "Python 3 (ipykernel)",
   "language": "python",
   "name": "python3"
  },
  "language_info": {
   "codemirror_mode": {
    "name": "ipython",
    "version": 3
   },
   "file_extension": ".py",
   "mimetype": "text/x-python",
   "name": "python",
   "nbconvert_exporter": "python",
   "pygments_lexer": "ipython3",
   "version": "3.9.12"
  }
 },
 "nbformat": 4,
 "nbformat_minor": 5
}
